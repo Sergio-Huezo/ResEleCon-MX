{
 "cells": [
  {
   "cell_type": "markdown",
   "metadata": {},
   "source": [
    "# Data Check: Metropolitan areas"
   ]
  },
  {
   "cell_type": "code",
   "execution_count": 115,
   "metadata": {},
   "outputs": [],
   "source": [
    "import pandas as pd\n",
    "from functools import reduce"
   ]
  },
  {
   "cell_type": "code",
   "execution_count": 116,
   "metadata": {},
   "outputs": [],
   "source": [
    "pkls_path = pkls = r'D:\\Tesis\\ResEleCon-MX\\pickles'\n",
    "concentrador = pd.read_pickle(pkls_path + '\\concentrador.pkl')"
   ]
  },
  {
   "cell_type": "code",
   "execution_count": 117,
   "metadata": {
    "scrolled": false
   },
   "outputs": [],
   "source": [
    "dataRoot = r'D:\\Tesis\\Datos' #path of data folder\n",
    "ZM_2015 = pd.read_csv(dataRoot + \"\\Zonas metropolitanas\\ZM_2015.csv\", encoding='latin-1', usecols=list(range(6)))\n",
    "metropolis_list = ZM_2015.set_index('CVE_ZM')['NOM_ZM'].to_dict()"
   ]
  },
  {
   "cell_type": "code",
   "execution_count": 118,
   "metadata": {},
   "outputs": [],
   "source": [
    "percent_completeness = pd.DataFrame()\n",
    "col_names = list(concentrador)\n",
    "subset = col_names[col_names.index('folioviv'):col_names.index('factor')]+['publico']+col_names[col_names.index('disp_elect'):]\n",
    "\n",
    "for key, name in metropolis_list.items():\n",
    "    # Columns for completeness check\n",
    "    con_df = concentrador.loc[concentrador['CVE_ZM']==key, subset]\n",
    "    percent_completeness[name] = (con_df.notnull().sum() * 100 / len(con_df))"
   ]
  },
  {
   "cell_type": "code",
   "execution_count": 119,
   "metadata": {},
   "outputs": [],
   "source": [
    "def Service_Availability(keyDict, infra, legend):\n",
    "    df_list = []\n",
    "    for key, name in metropolis_list.items():\n",
    "        s = pd.DataFrame()\n",
    "        con_df = concentrador.loc[concentrador['CVE_ZM']==key]\n",
    "        s[name] = (con_df[infra].value_counts(normalize=True, dropna=False) * 100)\n",
    "        df_list.append(s)\n",
    "    s = reduce(lambda  left,right: pd.merge(left,right,left_index=True, right_index=True, how='outer'), df_list)\n",
    "    s['Type'] = s.index.to_series().map(keyDict)\n",
    "    cols = list(s.columns); cols = [cols[-1]] + cols[:-1]; s = s[cols]\n",
    "    return s.T, legend\n"
   ]
  },
  {
   "cell_type": "code",
   "execution_count": 120,
   "metadata": {
    "scrolled": true
   },
   "outputs": [],
   "source": [
    "frames_list = []\n",
    "\n",
    "keyDict = {1:'public', 2:'priv plant', 3:'solar', 4:'other', 5:'no elec'}\n",
    "frames_list.append(Service_Availability(keyDict, 'disp_elect', \"Electricity source\"))\n",
    "\n",
    "keyDict = {1:'wood', 2:'coal', 3:'gas tank', 4:'gas pipe', 5:'elec', 6:'other'}\n",
    "frames_list.append(Service_Availability(keyDict, 'combustible', \"Energy source for cooking\"))\n",
    "\n",
    "keyDict = {1:'yes', 2:'no'}\n",
    "frames_list.append(Service_Availability(keyDict, 'calent_sol', \"Solar heater\"))\n",
    "\n",
    "frames_list.append(Service_Availability(keyDict, 'calent_gas', \"Gas heater\"))\n",
    "frames_list.append(Service_Availability(keyDict, 'tanque_gas', \"Gas tank\"))\n",
    "frames_list.append(Service_Availability(keyDict, 'aire_acond', \"Air conditioned\"))\n",
    "frames_list.append(Service_Availability(keyDict, 'calefacc', \"Heating\"))\n",
    "\n",
    "keyDict = {1:'rented', 2:'lend', 3:'own and paying', 4:'own', 5:'litigated', 6:'other'}\n",
    "frames_list.append(Service_Availability(keyDict, 'tenencia', \"Household ownership\"))"
   ]
  },
  {
   "cell_type": "code",
   "execution_count": 122,
   "metadata": {},
   "outputs": [],
   "source": [
    "with pd.ExcelWriter('csv_files/data_check.xlsx') as writer:\n",
    "    percent_completeness.T.to_excel(writer, sheet_name='Data available')\n",
    "    for df, legend in frames_list:\n",
    "        df.to_excel(writer, sheet_name=legend)"
   ]
  },
  {
   "cell_type": "markdown",
   "metadata": {},
   "source": [
    "## Data Metropolis/State"
   ]
  },
  {
   "cell_type": "code",
   "execution_count": null,
   "metadata": {},
   "outputs": [],
   "source": []
  }
 ],
 "metadata": {
  "kernelspec": {
   "display_name": "Python 3",
   "language": "python",
   "name": "python3"
  },
  "language_info": {
   "codemirror_mode": {
    "name": "ipython",
    "version": 3
   },
   "file_extension": ".py",
   "mimetype": "text/x-python",
   "name": "python",
   "nbconvert_exporter": "python",
   "pygments_lexer": "ipython3",
   "version": "3.7.6"
  }
 },
 "nbformat": 4,
 "nbformat_minor": 4
}
