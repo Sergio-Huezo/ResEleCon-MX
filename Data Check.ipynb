{
 "cells": [
  {
   "cell_type": "markdown",
   "metadata": {},
   "source": [
    "# Data Check: Metropolitan areas"
   ]
  },
  {
   "cell_type": "code",
   "execution_count": 1,
   "metadata": {},
   "outputs": [],
   "source": [
    "%matplotlib inline\n",
    "import numpy as np\n",
    "import pandas as pd\n",
    "import matplotlib.pyplot as plt\n",
    "from functools import reduce"
   ]
  },
  {
   "cell_type": "code",
   "execution_count": 2,
   "metadata": {},
   "outputs": [],
   "source": [
    "pd.set_option('display.max_columns', 200)\n",
    "pd.set_option('display.max_rows', 200)"
   ]
  },
  {
   "cell_type": "code",
   "execution_count": 8,
   "metadata": {},
   "outputs": [],
   "source": [
    "pkls_path = pkls = r'D:\\Tesis\\ResEleCon-MX\\pickles'\n",
    "concentrador = pd.read_pickle(pkls_path + '\\concentrador_2018.pkl')"
   ]
  },
  {
   "cell_type": "code",
   "execution_count": 9,
   "metadata": {},
   "outputs": [],
   "source": [
    "concentrador['gasto_tri_total_gas'] = concentrador[['gasto_tri_gas','gasto_tri_lpg']].sum(axis=1, min_count=1)\n",
    "concentrador['gasto_tri_total_gasolina'] = concentrador[['gasto_tri_Magna','gasto_tri_Premium']].sum(axis=1, min_count=1)"
   ]
  },
  {
   "cell_type": "markdown",
   "metadata": {},
   "source": [
    "## Check for true nulls"
   ]
  },
  {
   "cell_type": "code",
   "execution_count": 5,
   "metadata": {},
   "outputs": [],
   "source": [
    "concentrador.loc[(~concentrador['combustible'].isin([3,4])) & (concentrador['calent_gas']==2) & (concentrador['tanque_gas']==2) \n",
    "                 & (concentrador['gasto_tri_total_gas'].isnull()), 'gasto_tri_total_gas'] = 0\n",
    "\n",
    "concentrador.loc[(concentrador['vehiculos']==0) & (concentrador['gasto_tri_total_gasolina'].isnull()),\n",
    "                 'gasto_tri_total_gasolina'] = 0"
   ]
  },
  {
   "cell_type": "code",
   "execution_count": 17,
   "metadata": {},
   "outputs": [],
   "source": [
    "concentrador.to_pickle(pkls_path + '\\concentrador_gasfix_2018.pkl')"
   ]
  },
  {
   "cell_type": "code",
   "execution_count": 7,
   "metadata": {},
   "outputs": [
    {
     "data": {
      "text/html": [
       "<div>\n",
       "<style scoped>\n",
       "    .dataframe tbody tr th:only-of-type {\n",
       "        vertical-align: middle;\n",
       "    }\n",
       "\n",
       "    .dataframe tbody tr th {\n",
       "        vertical-align: top;\n",
       "    }\n",
       "\n",
       "    .dataframe thead th {\n",
       "        text-align: right;\n",
       "    }\n",
       "</style>\n",
       "<table border=\"1\" class=\"dataframe\">\n",
       "  <thead>\n",
       "    <tr style=\"text-align: right;\">\n",
       "      <th></th>\n",
       "      <th>folioviv</th>\n",
       "      <th>foliohog</th>\n",
       "      <th>CVE_MUN</th>\n",
       "      <th>estado</th>\n",
       "      <th>publico</th>\n",
       "      <th>CVE_ZM</th>\n",
       "      <th>CVE_ENT</th>\n",
       "      <th>tam_loc</th>\n",
       "      <th>est_socio</th>\n",
       "      <th>est_dis</th>\n",
       "      <th>upm</th>\n",
       "      <th>factor</th>\n",
       "      <th>clase_hog</th>\n",
       "      <th>sexo_jefe</th>\n",
       "      <th>edad_jefe</th>\n",
       "      <th>educa_jefe</th>\n",
       "      <th>tot_integ</th>\n",
       "      <th>hombres</th>\n",
       "      <th>mujeres</th>\n",
       "      <th>mayores</th>\n",
       "      <th>menores</th>\n",
       "      <th>ocupados</th>\n",
       "      <th>ing_cor</th>\n",
       "      <th>gasto_mon</th>\n",
       "      <th>energia</th>\n",
       "      <th>vehiculos</th>\n",
       "      <th>tipo_viv</th>\n",
       "      <th>antiguedad</th>\n",
       "      <th>num_cuarto</th>\n",
       "      <th>disp_elect</th>\n",
       "      <th>focos_inca</th>\n",
       "      <th>focos_ahor</th>\n",
       "      <th>combustible</th>\n",
       "      <th>tenencia</th>\n",
       "      <th>calent_sol</th>\n",
       "      <th>calent_gas</th>\n",
       "      <th>tanque_gas</th>\n",
       "      <th>aire_acond</th>\n",
       "      <th>calefacc</th>\n",
       "      <th>gasto_tri_ele</th>\n",
       "      <th>gasto_tri_gas</th>\n",
       "      <th>gasto_tri_lpg</th>\n",
       "      <th>gasto_tri_oil</th>\n",
       "      <th>gasto_tri_diesel</th>\n",
       "      <th>gasto_tri_coal</th>\n",
       "      <th>gasto_tri_wood</th>\n",
       "      <th>gasto_tri_heat</th>\n",
       "      <th>gasto_tri_Magna</th>\n",
       "      <th>gasto_tri_Premium</th>\n",
       "      <th>gasto_tri_Die-Gas</th>\n",
       "      <th>gasto_tri_total_gas</th>\n",
       "      <th>gasto_tri_total_gasolina</th>\n",
       "    </tr>\n",
       "  </thead>\n",
       "  <tbody>\n",
       "    <tr>\n",
       "      <th>count</th>\n",
       "      <td>3.110000e+04</td>\n",
       "      <td>31100.000000</td>\n",
       "      <td>31100.000000</td>\n",
       "      <td>31100.000000</td>\n",
       "      <td>31100.000000</td>\n",
       "      <td>31100.000000</td>\n",
       "      <td>31100.000000</td>\n",
       "      <td>31100.000000</td>\n",
       "      <td>31100.000000</td>\n",
       "      <td>31100.000000</td>\n",
       "      <td>31100.000000</td>\n",
       "      <td>31100.000000</td>\n",
       "      <td>31100.000000</td>\n",
       "      <td>31100.000000</td>\n",
       "      <td>31100.000000</td>\n",
       "      <td>31100.000000</td>\n",
       "      <td>31100.000000</td>\n",
       "      <td>31100.000000</td>\n",
       "      <td>31100.000000</td>\n",
       "      <td>31100.000000</td>\n",
       "      <td>31100.000000</td>\n",
       "      <td>31100.000000</td>\n",
       "      <td>3.110000e+04</td>\n",
       "      <td>3.110000e+04</td>\n",
       "      <td>31100.000000</td>\n",
       "      <td>31100.000000</td>\n",
       "      <td>31070.000000</td>\n",
       "      <td>25076.00000</td>\n",
       "      <td>31100.000000</td>\n",
       "      <td>31100.000000</td>\n",
       "      <td>31043.000000</td>\n",
       "      <td>31043.000000</td>\n",
       "      <td>31100.000000</td>\n",
       "      <td>31100.000000</td>\n",
       "      <td>31100.000000</td>\n",
       "      <td>31100.000000</td>\n",
       "      <td>31100.000000</td>\n",
       "      <td>31100.000000</td>\n",
       "      <td>31100.000000</td>\n",
       "      <td>28303.000000</td>\n",
       "      <td>3686.000000</td>\n",
       "      <td>16574.000000</td>\n",
       "      <td>18.000000</td>\n",
       "      <td>10.000000</td>\n",
       "      <td>864.000000</td>\n",
       "      <td>449.000000</td>\n",
       "      <td>129.000000</td>\n",
       "      <td>13909.000000</td>\n",
       "      <td>1393.000000</td>\n",
       "      <td>69.000000</td>\n",
       "      <td>21170.000000</td>\n",
       "      <td>29174.000000</td>\n",
       "    </tr>\n",
       "    <tr>\n",
       "      <th>mean</th>\n",
       "      <td>1.532120e+09</td>\n",
       "      <td>1.019035</td>\n",
       "      <td>15314.775659</td>\n",
       "      <td>15.283859</td>\n",
       "      <td>1693.304214</td>\n",
       "      <td>14.836921</td>\n",
       "      <td>15.283859</td>\n",
       "      <td>1.345145</td>\n",
       "      <td>2.591961</td>\n",
       "      <td>238.862733</td>\n",
       "      <td>4082.892958</td>\n",
       "      <td>644.437395</td>\n",
       "      <td>2.154630</td>\n",
       "      <td>1.309936</td>\n",
       "      <td>49.518585</td>\n",
       "      <td>6.386399</td>\n",
       "      <td>3.507621</td>\n",
       "      <td>1.698810</td>\n",
       "      <td>1.808810</td>\n",
       "      <td>2.838907</td>\n",
       "      <td>0.668714</td>\n",
       "      <td>1.680096</td>\n",
       "      <td>5.724480e+04</td>\n",
       "      <td>3.585690e+04</td>\n",
       "      <td>1571.029562</td>\n",
       "      <td>0.756109</td>\n",
       "      <td>1.142356</td>\n",
       "      <td>23.30910</td>\n",
       "      <td>3.976270</td>\n",
       "      <td>1.019100</td>\n",
       "      <td>1.279161</td>\n",
       "      <td>6.452985</td>\n",
       "      <td>3.119357</td>\n",
       "      <td>3.073441</td>\n",
       "      <td>1.936849</td>\n",
       "      <td>1.497878</td>\n",
       "      <td>1.870579</td>\n",
       "      <td>1.749839</td>\n",
       "      <td>1.955177</td>\n",
       "      <td>835.292990</td>\n",
       "      <td>929.439699</td>\n",
       "      <td>1249.081883</td>\n",
       "      <td>676.347222</td>\n",
       "      <td>1254.372000</td>\n",
       "      <td>249.118333</td>\n",
       "      <td>550.656704</td>\n",
       "      <td>1101.731473</td>\n",
       "      <td>5098.900246</td>\n",
       "      <td>6501.117753</td>\n",
       "      <td>3133.138841</td>\n",
       "      <td>1139.735374</td>\n",
       "      <td>2741.367675</td>\n",
       "    </tr>\n",
       "    <tr>\n",
       "      <th>std</th>\n",
       "      <td>9.164128e+08</td>\n",
       "      <td>0.162651</td>\n",
       "      <td>9177.380002</td>\n",
       "      <td>9.167614</td>\n",
       "      <td>2448.514643</td>\n",
       "      <td>9.203392</td>\n",
       "      <td>9.167614</td>\n",
       "      <td>0.675375</td>\n",
       "      <td>0.751045</td>\n",
       "      <td>154.753525</td>\n",
       "      <td>2386.560107</td>\n",
       "      <td>624.722751</td>\n",
       "      <td>0.647871</td>\n",
       "      <td>0.462474</td>\n",
       "      <td>15.517420</td>\n",
       "      <td>2.529301</td>\n",
       "      <td>1.769338</td>\n",
       "      <td>1.132721</td>\n",
       "      <td>1.169942</td>\n",
       "      <td>1.370390</td>\n",
       "      <td>0.948525</td>\n",
       "      <td>1.058990</td>\n",
       "      <td>6.630378e+04</td>\n",
       "      <td>3.428771e+04</td>\n",
       "      <td>1532.746407</td>\n",
       "      <td>0.921552</td>\n",
       "      <td>0.533091</td>\n",
       "      <td>15.31079</td>\n",
       "      <td>1.555582</td>\n",
       "      <td>0.250062</td>\n",
       "      <td>2.594685</td>\n",
       "      <td>5.662763</td>\n",
       "      <td>0.573231</td>\n",
       "      <td>1.230609</td>\n",
       "      <td>0.243238</td>\n",
       "      <td>0.500004</td>\n",
       "      <td>0.335671</td>\n",
       "      <td>0.433112</td>\n",
       "      <td>0.206919</td>\n",
       "      <td>1152.479338</td>\n",
       "      <td>728.367251</td>\n",
       "      <td>834.671480</td>\n",
       "      <td>873.242448</td>\n",
       "      <td>1821.187653</td>\n",
       "      <td>337.073538</td>\n",
       "      <td>882.672515</td>\n",
       "      <td>703.764174</td>\n",
       "      <td>4294.313899</td>\n",
       "      <td>5404.315484</td>\n",
       "      <td>3218.587592</td>\n",
       "      <td>852.759146</td>\n",
       "      <td>4193.036139</td>\n",
       "    </tr>\n",
       "    <tr>\n",
       "      <th>min</th>\n",
       "      <td>1.000136e+08</td>\n",
       "      <td>1.000000</td>\n",
       "      <td>1001.000000</td>\n",
       "      <td>1.000000</td>\n",
       "      <td>0.000000</td>\n",
       "      <td>1.010000</td>\n",
       "      <td>1.000000</td>\n",
       "      <td>1.000000</td>\n",
       "      <td>1.000000</td>\n",
       "      <td>1.000000</td>\n",
       "      <td>1.000000</td>\n",
       "      <td>42.000000</td>\n",
       "      <td>1.000000</td>\n",
       "      <td>1.000000</td>\n",
       "      <td>14.000000</td>\n",
       "      <td>1.000000</td>\n",
       "      <td>1.000000</td>\n",
       "      <td>0.000000</td>\n",
       "      <td>0.000000</td>\n",
       "      <td>1.000000</td>\n",
       "      <td>0.000000</td>\n",
       "      <td>0.000000</td>\n",
       "      <td>0.000000e+00</td>\n",
       "      <td>0.000000e+00</td>\n",
       "      <td>0.000000</td>\n",
       "      <td>0.000000</td>\n",
       "      <td>1.000000</td>\n",
       "      <td>0.00000</td>\n",
       "      <td>1.000000</td>\n",
       "      <td>1.000000</td>\n",
       "      <td>0.000000</td>\n",
       "      <td>0.000000</td>\n",
       "      <td>1.000000</td>\n",
       "      <td>1.000000</td>\n",
       "      <td>1.000000</td>\n",
       "      <td>1.000000</td>\n",
       "      <td>1.000000</td>\n",
       "      <td>1.000000</td>\n",
       "      <td>1.000000</td>\n",
       "      <td>12.500000</td>\n",
       "      <td>25.000000</td>\n",
       "      <td>104.510000</td>\n",
       "      <td>39.000000</td>\n",
       "      <td>52.250000</td>\n",
       "      <td>0.000000</td>\n",
       "      <td>29.030000</td>\n",
       "      <td>42.000000</td>\n",
       "      <td>58.060000</td>\n",
       "      <td>174.190000</td>\n",
       "      <td>60.960000</td>\n",
       "      <td>0.000000</td>\n",
       "      <td>0.000000</td>\n",
       "    </tr>\n",
       "    <tr>\n",
       "      <th>25%</th>\n",
       "      <td>8.016208e+08</td>\n",
       "      <td>1.000000</td>\n",
       "      <td>8019.000000</td>\n",
       "      <td>8.000000</td>\n",
       "      <td>0.000000</td>\n",
       "      <td>7.020000</td>\n",
       "      <td>8.000000</td>\n",
       "      <td>1.000000</td>\n",
       "      <td>2.000000</td>\n",
       "      <td>116.000000</td>\n",
       "      <td>2131.000000</td>\n",
       "      <td>259.000000</td>\n",
       "      <td>2.000000</td>\n",
       "      <td>1.000000</td>\n",
       "      <td>38.000000</td>\n",
       "      <td>4.000000</td>\n",
       "      <td>2.000000</td>\n",
       "      <td>1.000000</td>\n",
       "      <td>1.000000</td>\n",
       "      <td>2.000000</td>\n",
       "      <td>0.000000</td>\n",
       "      <td>1.000000</td>\n",
       "      <td>2.722017e+04</td>\n",
       "      <td>1.753493e+04</td>\n",
       "      <td>580.640000</td>\n",
       "      <td>0.000000</td>\n",
       "      <td>1.000000</td>\n",
       "      <td>12.00000</td>\n",
       "      <td>3.000000</td>\n",
       "      <td>1.000000</td>\n",
       "      <td>0.000000</td>\n",
       "      <td>3.000000</td>\n",
       "      <td>3.000000</td>\n",
       "      <td>2.000000</td>\n",
       "      <td>2.000000</td>\n",
       "      <td>1.000000</td>\n",
       "      <td>2.000000</td>\n",
       "      <td>1.000000</td>\n",
       "      <td>2.000000</td>\n",
       "      <td>300.000000</td>\n",
       "      <td>540.000000</td>\n",
       "      <td>600.000000</td>\n",
       "      <td>106.207500</td>\n",
       "      <td>58.785000</td>\n",
       "      <td>87.090000</td>\n",
       "      <td>150.000000</td>\n",
       "      <td>580.640000</td>\n",
       "      <td>2322.580000</td>\n",
       "      <td>2903.220000</td>\n",
       "      <td>870.960000</td>\n",
       "      <td>580.640000</td>\n",
       "      <td>0.000000</td>\n",
       "    </tr>\n",
       "    <tr>\n",
       "      <th>50%</th>\n",
       "      <td>1.507773e+09</td>\n",
       "      <td>1.000000</td>\n",
       "      <td>15033.000000</td>\n",
       "      <td>15.000000</td>\n",
       "      <td>822.830000</td>\n",
       "      <td>14.010000</td>\n",
       "      <td>15.000000</td>\n",
       "      <td>1.000000</td>\n",
       "      <td>2.000000</td>\n",
       "      <td>229.000000</td>\n",
       "      <td>4058.000000</td>\n",
       "      <td>422.000000</td>\n",
       "      <td>2.000000</td>\n",
       "      <td>1.000000</td>\n",
       "      <td>48.000000</td>\n",
       "      <td>6.000000</td>\n",
       "      <td>3.000000</td>\n",
       "      <td>2.000000</td>\n",
       "      <td>2.000000</td>\n",
       "      <td>3.000000</td>\n",
       "      <td>0.000000</td>\n",
       "      <td>2.000000</td>\n",
       "      <td>4.278390e+04</td>\n",
       "      <td>2.751594e+04</td>\n",
       "      <td>1290.000000</td>\n",
       "      <td>1.000000</td>\n",
       "      <td>1.000000</td>\n",
       "      <td>20.00000</td>\n",
       "      <td>4.000000</td>\n",
       "      <td>1.000000</td>\n",
       "      <td>0.000000</td>\n",
       "      <td>6.000000</td>\n",
       "      <td>3.000000</td>\n",
       "      <td>4.000000</td>\n",
       "      <td>2.000000</td>\n",
       "      <td>1.000000</td>\n",
       "      <td>2.000000</td>\n",
       "      <td>2.000000</td>\n",
       "      <td>2.000000</td>\n",
       "      <td>478.500000</td>\n",
       "      <td>787.500000</td>\n",
       "      <td>1152.580000</td>\n",
       "      <td>300.000000</td>\n",
       "      <td>278.705000</td>\n",
       "      <td>145.160000</td>\n",
       "      <td>300.000000</td>\n",
       "      <td>900.000000</td>\n",
       "      <td>4200.000000</td>\n",
       "      <td>5225.800000</td>\n",
       "      <td>1741.930000</td>\n",
       "      <td>1050.000000</td>\n",
       "      <td>696.770000</td>\n",
       "    </tr>\n",
       "    <tr>\n",
       "      <th>75%</th>\n",
       "      <td>2.301926e+09</td>\n",
       "      <td>1.000000</td>\n",
       "      <td>23005.000000</td>\n",
       "      <td>23.000000</td>\n",
       "      <td>2519.950000</td>\n",
       "      <td>23.010000</td>\n",
       "      <td>23.000000</td>\n",
       "      <td>1.000000</td>\n",
       "      <td>3.000000</td>\n",
       "      <td>365.000000</td>\n",
       "      <td>6085.250000</td>\n",
       "      <td>773.000000</td>\n",
       "      <td>3.000000</td>\n",
       "      <td>2.000000</td>\n",
       "      <td>60.000000</td>\n",
       "      <td>8.000000</td>\n",
       "      <td>5.000000</td>\n",
       "      <td>2.000000</td>\n",
       "      <td>2.000000</td>\n",
       "      <td>4.000000</td>\n",
       "      <td>1.000000</td>\n",
       "      <td>2.000000</td>\n",
       "      <td>6.828835e+04</td>\n",
       "      <td>4.300817e+04</td>\n",
       "      <td>2070.960000</td>\n",
       "      <td>1.000000</td>\n",
       "      <td>1.000000</td>\n",
       "      <td>30.00000</td>\n",
       "      <td>5.000000</td>\n",
       "      <td>1.000000</td>\n",
       "      <td>2.000000</td>\n",
       "      <td>8.000000</td>\n",
       "      <td>3.000000</td>\n",
       "      <td>4.000000</td>\n",
       "      <td>2.000000</td>\n",
       "      <td>2.000000</td>\n",
       "      <td>2.000000</td>\n",
       "      <td>2.000000</td>\n",
       "      <td>2.000000</td>\n",
       "      <td>900.000000</td>\n",
       "      <td>1199.250000</td>\n",
       "      <td>1654.830000</td>\n",
       "      <td>867.192500</td>\n",
       "      <td>2322.575000</td>\n",
       "      <td>290.320000</td>\n",
       "      <td>600.000000</td>\n",
       "      <td>1672.250000</td>\n",
       "      <td>6000.000000</td>\n",
       "      <td>8419.350000</td>\n",
       "      <td>3900.000000</td>\n",
       "      <td>1500.000000</td>\n",
       "      <td>4354.830000</td>\n",
       "    </tr>\n",
       "    <tr>\n",
       "      <th>max</th>\n",
       "      <td>3.202440e+09</td>\n",
       "      <td>5.000000</td>\n",
       "      <td>32056.000000</td>\n",
       "      <td>32.000000</td>\n",
       "      <td>53897.060000</td>\n",
       "      <td>32.010000</td>\n",
       "      <td>32.000000</td>\n",
       "      <td>3.000000</td>\n",
       "      <td>4.000000</td>\n",
       "      <td>541.000000</td>\n",
       "      <td>8351.000000</td>\n",
       "      <td>6727.000000</td>\n",
       "      <td>5.000000</td>\n",
       "      <td>2.000000</td>\n",
       "      <td>101.000000</td>\n",
       "      <td>11.000000</td>\n",
       "      <td>22.000000</td>\n",
       "      <td>11.000000</td>\n",
       "      <td>11.000000</td>\n",
       "      <td>13.000000</td>\n",
       "      <td>11.000000</td>\n",
       "      <td>11.000000</td>\n",
       "      <td>4.033086e+06</td>\n",
       "      <td>1.457729e+06</td>\n",
       "      <td>35250.000000</td>\n",
       "      <td>28.000000</td>\n",
       "      <td>5.000000</td>\n",
       "      <td>99.00000</td>\n",
       "      <td>22.000000</td>\n",
       "      <td>5.000000</td>\n",
       "      <td>98.000000</td>\n",
       "      <td>99.000000</td>\n",
       "      <td>6.000000</td>\n",
       "      <td>6.000000</td>\n",
       "      <td>2.000000</td>\n",
       "      <td>2.000000</td>\n",
       "      <td>2.000000</td>\n",
       "      <td>2.000000</td>\n",
       "      <td>2.000000</td>\n",
       "      <td>30750.000000</td>\n",
       "      <td>18000.000000</td>\n",
       "      <td>22499.990000</td>\n",
       "      <td>3483.870000</td>\n",
       "      <td>5225.800000</td>\n",
       "      <td>5399.990000</td>\n",
       "      <td>14516.120000</td>\n",
       "      <td>3600.000000</td>\n",
       "      <td>84774.190000</td>\n",
       "      <td>48000.000000</td>\n",
       "      <td>11612.900000</td>\n",
       "      <td>22949.990000</td>\n",
       "      <td>84774.190000</td>\n",
       "    </tr>\n",
       "  </tbody>\n",
       "</table>\n",
       "</div>"
      ],
      "text/plain": [
       "           folioviv      foliohog       CVE_MUN        estado       publico  \\\n",
       "count  3.110000e+04  31100.000000  31100.000000  31100.000000  31100.000000   \n",
       "mean   1.532120e+09      1.019035  15314.775659     15.283859   1693.304214   \n",
       "std    9.164128e+08      0.162651   9177.380002      9.167614   2448.514643   \n",
       "min    1.000136e+08      1.000000   1001.000000      1.000000      0.000000   \n",
       "25%    8.016208e+08      1.000000   8019.000000      8.000000      0.000000   \n",
       "50%    1.507773e+09      1.000000  15033.000000     15.000000    822.830000   \n",
       "75%    2.301926e+09      1.000000  23005.000000     23.000000   2519.950000   \n",
       "max    3.202440e+09      5.000000  32056.000000     32.000000  53897.060000   \n",
       "\n",
       "             CVE_ZM       CVE_ENT       tam_loc     est_socio       est_dis  \\\n",
       "count  31100.000000  31100.000000  31100.000000  31100.000000  31100.000000   \n",
       "mean      14.836921     15.283859      1.345145      2.591961    238.862733   \n",
       "std        9.203392      9.167614      0.675375      0.751045    154.753525   \n",
       "min        1.010000      1.000000      1.000000      1.000000      1.000000   \n",
       "25%        7.020000      8.000000      1.000000      2.000000    116.000000   \n",
       "50%       14.010000     15.000000      1.000000      2.000000    229.000000   \n",
       "75%       23.010000     23.000000      1.000000      3.000000    365.000000   \n",
       "max       32.010000     32.000000      3.000000      4.000000    541.000000   \n",
       "\n",
       "                upm        factor     clase_hog     sexo_jefe     edad_jefe  \\\n",
       "count  31100.000000  31100.000000  31100.000000  31100.000000  31100.000000   \n",
       "mean    4082.892958    644.437395      2.154630      1.309936     49.518585   \n",
       "std     2386.560107    624.722751      0.647871      0.462474     15.517420   \n",
       "min        1.000000     42.000000      1.000000      1.000000     14.000000   \n",
       "25%     2131.000000    259.000000      2.000000      1.000000     38.000000   \n",
       "50%     4058.000000    422.000000      2.000000      1.000000     48.000000   \n",
       "75%     6085.250000    773.000000      3.000000      2.000000     60.000000   \n",
       "max     8351.000000   6727.000000      5.000000      2.000000    101.000000   \n",
       "\n",
       "         educa_jefe     tot_integ       hombres       mujeres       mayores  \\\n",
       "count  31100.000000  31100.000000  31100.000000  31100.000000  31100.000000   \n",
       "mean       6.386399      3.507621      1.698810      1.808810      2.838907   \n",
       "std        2.529301      1.769338      1.132721      1.169942      1.370390   \n",
       "min        1.000000      1.000000      0.000000      0.000000      1.000000   \n",
       "25%        4.000000      2.000000      1.000000      1.000000      2.000000   \n",
       "50%        6.000000      3.000000      2.000000      2.000000      3.000000   \n",
       "75%        8.000000      5.000000      2.000000      2.000000      4.000000   \n",
       "max       11.000000     22.000000     11.000000     11.000000     13.000000   \n",
       "\n",
       "            menores      ocupados       ing_cor     gasto_mon       energia  \\\n",
       "count  31100.000000  31100.000000  3.110000e+04  3.110000e+04  31100.000000   \n",
       "mean       0.668714      1.680096  5.724480e+04  3.585690e+04   1571.029562   \n",
       "std        0.948525      1.058990  6.630378e+04  3.428771e+04   1532.746407   \n",
       "min        0.000000      0.000000  0.000000e+00  0.000000e+00      0.000000   \n",
       "25%        0.000000      1.000000  2.722017e+04  1.753493e+04    580.640000   \n",
       "50%        0.000000      2.000000  4.278390e+04  2.751594e+04   1290.000000   \n",
       "75%        1.000000      2.000000  6.828835e+04  4.300817e+04   2070.960000   \n",
       "max       11.000000     11.000000  4.033086e+06  1.457729e+06  35250.000000   \n",
       "\n",
       "          vehiculos      tipo_viv   antiguedad    num_cuarto    disp_elect  \\\n",
       "count  31100.000000  31070.000000  25076.00000  31100.000000  31100.000000   \n",
       "mean       0.756109      1.142356     23.30910      3.976270      1.019100   \n",
       "std        0.921552      0.533091     15.31079      1.555582      0.250062   \n",
       "min        0.000000      1.000000      0.00000      1.000000      1.000000   \n",
       "25%        0.000000      1.000000     12.00000      3.000000      1.000000   \n",
       "50%        1.000000      1.000000     20.00000      4.000000      1.000000   \n",
       "75%        1.000000      1.000000     30.00000      5.000000      1.000000   \n",
       "max       28.000000      5.000000     99.00000     22.000000      5.000000   \n",
       "\n",
       "         focos_inca    focos_ahor   combustible      tenencia    calent_sol  \\\n",
       "count  31043.000000  31043.000000  31100.000000  31100.000000  31100.000000   \n",
       "mean       1.279161      6.452985      3.119357      3.073441      1.936849   \n",
       "std        2.594685      5.662763      0.573231      1.230609      0.243238   \n",
       "min        0.000000      0.000000      1.000000      1.000000      1.000000   \n",
       "25%        0.000000      3.000000      3.000000      2.000000      2.000000   \n",
       "50%        0.000000      6.000000      3.000000      4.000000      2.000000   \n",
       "75%        2.000000      8.000000      3.000000      4.000000      2.000000   \n",
       "max       98.000000     99.000000      6.000000      6.000000      2.000000   \n",
       "\n",
       "         calent_gas    tanque_gas    aire_acond      calefacc  gasto_tri_ele  \\\n",
       "count  31100.000000  31100.000000  31100.000000  31100.000000   28303.000000   \n",
       "mean       1.497878      1.870579      1.749839      1.955177     835.292990   \n",
       "std        0.500004      0.335671      0.433112      0.206919    1152.479338   \n",
       "min        1.000000      1.000000      1.000000      1.000000      12.500000   \n",
       "25%        1.000000      2.000000      1.000000      2.000000     300.000000   \n",
       "50%        1.000000      2.000000      2.000000      2.000000     478.500000   \n",
       "75%        2.000000      2.000000      2.000000      2.000000     900.000000   \n",
       "max        2.000000      2.000000      2.000000      2.000000   30750.000000   \n",
       "\n",
       "       gasto_tri_gas  gasto_tri_lpg  gasto_tri_oil  gasto_tri_diesel  \\\n",
       "count    3686.000000   16574.000000      18.000000         10.000000   \n",
       "mean      929.439699    1249.081883     676.347222       1254.372000   \n",
       "std       728.367251     834.671480     873.242448       1821.187653   \n",
       "min        25.000000     104.510000      39.000000         52.250000   \n",
       "25%       540.000000     600.000000     106.207500         58.785000   \n",
       "50%       787.500000    1152.580000     300.000000        278.705000   \n",
       "75%      1199.250000    1654.830000     867.192500       2322.575000   \n",
       "max     18000.000000   22499.990000    3483.870000       5225.800000   \n",
       "\n",
       "       gasto_tri_coal  gasto_tri_wood  gasto_tri_heat  gasto_tri_Magna  \\\n",
       "count      864.000000      449.000000      129.000000     13909.000000   \n",
       "mean       249.118333      550.656704     1101.731473      5098.900246   \n",
       "std        337.073538      882.672515      703.764174      4294.313899   \n",
       "min          0.000000       29.030000       42.000000        58.060000   \n",
       "25%         87.090000      150.000000      580.640000      2322.580000   \n",
       "50%        145.160000      300.000000      900.000000      4200.000000   \n",
       "75%        290.320000      600.000000     1672.250000      6000.000000   \n",
       "max       5399.990000    14516.120000     3600.000000     84774.190000   \n",
       "\n",
       "       gasto_tri_Premium  gasto_tri_Die-Gas  gasto_tri_total_gas  \\\n",
       "count        1393.000000          69.000000         21170.000000   \n",
       "mean         6501.117753        3133.138841          1139.735374   \n",
       "std          5404.315484        3218.587592           852.759146   \n",
       "min           174.190000          60.960000             0.000000   \n",
       "25%          2903.220000         870.960000           580.640000   \n",
       "50%          5225.800000        1741.930000          1050.000000   \n",
       "75%          8419.350000        3900.000000          1500.000000   \n",
       "max         48000.000000       11612.900000         22949.990000   \n",
       "\n",
       "       gasto_tri_total_gasolina  \n",
       "count              29174.000000  \n",
       "mean                2741.367675  \n",
       "std                 4193.036139  \n",
       "min                    0.000000  \n",
       "25%                    0.000000  \n",
       "50%                  696.770000  \n",
       "75%                 4354.830000  \n",
       "max                84774.190000  "
      ]
     },
     "execution_count": 7,
     "metadata": {},
     "output_type": "execute_result"
    }
   ],
   "source": [
    "concentrador.describe()"
   ]
  },
  {
   "cell_type": "markdown",
   "metadata": {},
   "source": [
    "## Create DataFrame"
   ]
  },
  {
   "cell_type": "code",
   "execution_count": 11,
   "metadata": {
    "scrolled": false
   },
   "outputs": [],
   "source": [
    "dataRoot = r'D:\\Tesis\\Datos' #path of data folder\n",
    "ZM_2015 = pd.read_csv(dataRoot + \"\\Zonas metropolitanas\\ZM_2015.csv\", encoding='latin-1', usecols=list(range(6)))\n",
    "metropolis_list = ZM_2015.set_index('CVE_ZM')['NOM_ZM'].to_dict()"
   ]
  },
  {
   "cell_type": "code",
   "execution_count": 12,
   "metadata": {},
   "outputs": [],
   "source": [
    "percent_completeness = pd.DataFrame()\n",
    "col_names = list(concentrador)\n",
    "subset = col_names[col_names.index('folioviv'):col_names.index('factor')]+['publico']+col_names[col_names.index('disp_elect'):]\n",
    "\n",
    "for key, name in metropolis_list.items():\n",
    "    # Columns for completeness check\n",
    "    con_df = concentrador.loc[concentrador['CVE_ZM']==key, subset]\n",
    "    percent_completeness[name] = (con_df.notnull().sum() * 100 / len(con_df))"
   ]
  },
  {
   "cell_type": "code",
   "execution_count": 13,
   "metadata": {},
   "outputs": [],
   "source": [
    "def Service_Availability(keyDict, infra, legend):\n",
    "    df_list = []\n",
    "    for key, name in metropolis_list.items():\n",
    "        s = pd.DataFrame()\n",
    "        con_df = concentrador.loc[concentrador['CVE_ZM']==key]\n",
    "        s[name] = (con_df[infra].value_counts(normalize=True, dropna=False) * 100)\n",
    "        df_list.append(s)\n",
    "    s = reduce(lambda  left,right: pd.merge(left,right,left_index=True, right_index=True, how='outer'), df_list)\n",
    "    s['Type'] = s.index.to_series().map(keyDict)\n",
    "    cols = list(s.columns); cols = [cols[-1]] + cols[:-1]; s = s[cols]\n",
    "    return s.T, legend\n"
   ]
  },
  {
   "cell_type": "code",
   "execution_count": 14,
   "metadata": {
    "scrolled": true
   },
   "outputs": [],
   "source": [
    "frames_list = []\n",
    "\n",
    "keyDict = {1:'public', 2:'priv plant', 3:'solar', 4:'other', 5:'no elec'}\n",
    "frames_list.append(Service_Availability(keyDict, 'disp_elect', \"Electricity source\"))\n",
    "\n",
    "keyDict = {1:'wood', 2:'coal', 3:'gas tank', 4:'gas pipe', 5:'elec', 6:'other'}\n",
    "frames_list.append(Service_Availability(keyDict, 'combustible', \"Energy source for cooking\"))\n",
    "\n",
    "keyDict = {1:'yes', 2:'no'}\n",
    "frames_list.append(Service_Availability(keyDict, 'calent_sol', \"Solar heater\"))\n",
    "\n",
    "frames_list.append(Service_Availability(keyDict, 'calent_gas', \"Gas heater\"))\n",
    "frames_list.append(Service_Availability(keyDict, 'tanque_gas', \"Gas tank\"))\n",
    "frames_list.append(Service_Availability(keyDict, 'aire_acond', \"Air conditioned\"))\n",
    "frames_list.append(Service_Availability(keyDict, 'calefacc', \"Heating\"))\n",
    "\n",
    "keyDict = {1:'rented', 2:'lend', 3:'own and paying', 4:'own', 5:'litigated', 6:'other'}\n",
    "frames_list.append(Service_Availability(keyDict, 'tenencia', \"Household ownership\"))"
   ]
  },
  {
   "cell_type": "code",
   "execution_count": 15,
   "metadata": {},
   "outputs": [],
   "source": [
    "with pd.ExcelWriter('csv_files/data_check_2018_nanAsZero.xlsx') as writer:\n",
    "    percent_completeness.T.to_excel(writer, sheet_name='Data available')\n",
    "    for df, legend in frames_list:\n",
    "        df.to_excel(writer, sheet_name=legend)"
   ]
  },
  {
   "cell_type": "code",
   "execution_count": null,
   "metadata": {},
   "outputs": [],
   "source": []
  },
  {
   "cell_type": "markdown",
   "metadata": {},
   "source": [
    "# National Check"
   ]
  },
  {
   "cell_type": "code",
   "execution_count": null,
   "metadata": {},
   "outputs": [],
   "source": [
    "percent_completeness = pd.DataFrame()\n",
    "col_names = list(concentrador)\n",
    "subset = col_names[col_names.index('folioviv'):col_names.index('factor')]+['publico']+col_names[col_names.index('disp_elect'):]\n",
    "\n",
    "# Columns for completeness check\n",
    "con_df = concentrador[subset]\n",
    "percent_completeness = (con_df.notnull().sum() * 100 / len(con_df))"
   ]
  },
  {
   "cell_type": "code",
   "execution_count": null,
   "metadata": {},
   "outputs": [],
   "source": [
    "def SA_National(keyDict, infra, legend):\n",
    "    s = (concentrador[infra].value_counts(normalize=True, dropna=False) * 100).to_frame()\n",
    "    s['Type'] = s.index.map(keyDict)\n",
    "    return s, legend"
   ]
  },
  {
   "cell_type": "code",
   "execution_count": null,
   "metadata": {},
   "outputs": [],
   "source": [
    "frames_list = []\n",
    "\n",
    "keyDict = {1:'public', 2:'priv plant', 3:'solar', 4:'other', 5:'no elec'}\n",
    "frames_list.append(SA_National(keyDict, 'disp_elect', \"Electricity source\"))\n",
    "\n",
    "keyDict = {1:'wood', 2:'coal', 3:'gas tank', 4:'gas pipe', 5:'elec', 6:'other'}\n",
    "frames_list.append(SA_National(keyDict, 'combustible', \"Energy source for cooking\"))\n",
    "\n",
    "keyDict = {1:'yes', 2:'no'}\n",
    "frames_list.append(SA_National(keyDict, 'calent_sol', \"Solar heater\"))\n",
    "\n",
    "frames_list.append(SA_National(keyDict, 'calent_gas', \"Gas heater\"))\n",
    "frames_list.append(SA_National(keyDict, 'tanque_gas', \"Gas tank\"))\n",
    "frames_list.append(SA_National(keyDict, 'aire_acond', \"Air conditioned\"))\n",
    "frames_list.append(SA_National(keyDict, 'calefacc', \"Heating\"))\n",
    "\n",
    "keyDict = {1:'rented', 2:'lend', 3:'own and paying', 4:'own', 5:'litigated', 6:'other'}\n",
    "frames_list.append(SA_National(keyDict, 'tenencia', \"Household ownership\"))"
   ]
  },
  {
   "cell_type": "code",
   "execution_count": null,
   "metadata": {},
   "outputs": [],
   "source": [
    "with pd.ExcelWriter('csv_files/data_check_2016_nanAsZero_national.xlsx') as writer:\n",
    "    percent_completeness.to_excel(writer, sheet_name='Data available')\n",
    "    for df, legend in frames_list:\n",
    "        df.to_excel(writer, sheet_name=legend)"
   ]
  },
  {
   "cell_type": "code",
   "execution_count": null,
   "metadata": {},
   "outputs": [],
   "source": []
  },
  {
   "cell_type": "markdown",
   "metadata": {},
   "source": [
    "# Data description"
   ]
  },
  {
   "cell_type": "code",
   "execution_count": 21,
   "metadata": {},
   "outputs": [],
   "source": [
    "no_GasData = concentrador.loc[((concentrador['combustible'].isin([3,4])) | (concentrador['calent_gas']==1) | (concentrador['tanque_gas']==1)) \n",
    "                 & (concentrador['gasto_tri_total_gas'].isnull())].copy()\n",
    "\n",
    "GasData = concentrador.loc[~(((concentrador['combustible'].isin([3,4])) | (concentrador['calent_gas']==1) | (concentrador['tanque_gas']==1)) \n",
    "                 & (concentrador['gasto_tri_total_gas'].isnull()))].copy()"
   ]
  },
  {
   "cell_type": "code",
   "execution_count": 22,
   "metadata": {},
   "outputs": [],
   "source": [
    "variables = ['tam_loc','est_socio','disp_elect','tenencia','calent_sol','calent_gas','tanque_gas','aire_acond',\n",
    "             'calefacc','publico','focos_inca','focos_ahor','combustible','gasto_tri_ele','gasto_tri_total_gasolina']\n",
    "var_cont = ['publico','focos_inca','focos_ahor','combustible','gasto_tri_ele','gasto_tri_total_gasolina']"
   ]
  },
  {
   "cell_type": "markdown",
   "metadata": {},
   "source": [
    "## Medidas de tendencia central"
   ]
  },
  {
   "cell_type": "markdown",
   "metadata": {},
   "source": [
    "### Gas $"
   ]
  },
  {
   "cell_type": "code",
   "execution_count": 7,
   "metadata": {
    "scrolled": true
   },
   "outputs": [
    {
     "data": {
      "text/html": [
       "<div>\n",
       "<style scoped>\n",
       "    .dataframe tbody tr th:only-of-type {\n",
       "        vertical-align: middle;\n",
       "    }\n",
       "\n",
       "    .dataframe tbody tr th {\n",
       "        vertical-align: top;\n",
       "    }\n",
       "\n",
       "    .dataframe thead th {\n",
       "        text-align: right;\n",
       "    }\n",
       "</style>\n",
       "<table border=\"1\" class=\"dataframe\">\n",
       "  <thead>\n",
       "    <tr style=\"text-align: right;\">\n",
       "      <th></th>\n",
       "      <th>publico</th>\n",
       "      <th>focos_inca</th>\n",
       "      <th>focos_ahor</th>\n",
       "      <th>combustible</th>\n",
       "      <th>gasto_tri_ele</th>\n",
       "      <th>gasto_tri_total_gasolina</th>\n",
       "    </tr>\n",
       "  </thead>\n",
       "  <tbody>\n",
       "    <tr>\n",
       "      <th>count</th>\n",
       "      <td>21170.000000</td>\n",
       "      <td>21122.000000</td>\n",
       "      <td>21122.000000</td>\n",
       "      <td>21170.000000</td>\n",
       "      <td>19444.000000</td>\n",
       "      <td>10477.000000</td>\n",
       "    </tr>\n",
       "    <tr>\n",
       "      <th>mean</th>\n",
       "      <td>1777.612886</td>\n",
       "      <td>1.336284</td>\n",
       "      <td>6.361424</td>\n",
       "      <td>3.149173</td>\n",
       "      <td>858.066238</td>\n",
       "      <td>5410.307647</td>\n",
       "    </tr>\n",
       "    <tr>\n",
       "      <th>std</th>\n",
       "      <td>2541.257977</td>\n",
       "      <td>2.614694</td>\n",
       "      <td>5.646973</td>\n",
       "      <td>0.651126</td>\n",
       "      <td>1210.324587</td>\n",
       "      <td>4583.164457</td>\n",
       "    </tr>\n",
       "    <tr>\n",
       "      <th>min</th>\n",
       "      <td>0.000000</td>\n",
       "      <td>0.000000</td>\n",
       "      <td>0.000000</td>\n",
       "      <td>1.000000</td>\n",
       "      <td>12.500000</td>\n",
       "      <td>58.060000</td>\n",
       "    </tr>\n",
       "    <tr>\n",
       "      <th>25%</th>\n",
       "      <td>0.000000</td>\n",
       "      <td>0.000000</td>\n",
       "      <td>3.000000</td>\n",
       "      <td>3.000000</td>\n",
       "      <td>300.000000</td>\n",
       "      <td>2322.580000</td>\n",
       "    </tr>\n",
       "    <tr>\n",
       "      <th>50%</th>\n",
       "      <td>899.970000</td>\n",
       "      <td>0.000000</td>\n",
       "      <td>6.000000</td>\n",
       "      <td>3.000000</td>\n",
       "      <td>502.500000</td>\n",
       "      <td>4354.830000</td>\n",
       "    </tr>\n",
       "    <tr>\n",
       "      <th>75%</th>\n",
       "      <td>2622.800000</td>\n",
       "      <td>2.000000</td>\n",
       "      <td>8.000000</td>\n",
       "      <td>3.000000</td>\n",
       "      <td>900.000000</td>\n",
       "      <td>6967.740000</td>\n",
       "    </tr>\n",
       "    <tr>\n",
       "      <th>max</th>\n",
       "      <td>53897.060000</td>\n",
       "      <td>80.000000</td>\n",
       "      <td>99.000000</td>\n",
       "      <td>6.000000</td>\n",
       "      <td>30750.000000</td>\n",
       "      <td>62129.030000</td>\n",
       "    </tr>\n",
       "  </tbody>\n",
       "</table>\n",
       "</div>"
      ],
      "text/plain": [
       "            publico    focos_inca    focos_ahor   combustible  gasto_tri_ele  \\\n",
       "count  21170.000000  21122.000000  21122.000000  21170.000000   19444.000000   \n",
       "mean    1777.612886      1.336284      6.361424      3.149173     858.066238   \n",
       "std     2541.257977      2.614694      5.646973      0.651126    1210.324587   \n",
       "min        0.000000      0.000000      0.000000      1.000000      12.500000   \n",
       "25%        0.000000      0.000000      3.000000      3.000000     300.000000   \n",
       "50%      899.970000      0.000000      6.000000      3.000000     502.500000   \n",
       "75%     2622.800000      2.000000      8.000000      3.000000     900.000000   \n",
       "max    53897.060000     80.000000     99.000000      6.000000   30750.000000   \n",
       "\n",
       "       gasto_tri_total_gasolina  \n",
       "count              10477.000000  \n",
       "mean                5410.307647  \n",
       "std                 4583.164457  \n",
       "min                   58.060000  \n",
       "25%                 2322.580000  \n",
       "50%                 4354.830000  \n",
       "75%                 6967.740000  \n",
       "max                62129.030000  "
      ]
     },
     "execution_count": 7,
     "metadata": {},
     "output_type": "execute_result"
    }
   ],
   "source": [
    "GasData[var_cont].describe()"
   ]
  },
  {
   "cell_type": "markdown",
   "metadata": {},
   "source": [
    "### No gas $"
   ]
  },
  {
   "cell_type": "code",
   "execution_count": 8,
   "metadata": {},
   "outputs": [
    {
     "data": {
      "text/html": [
       "<div>\n",
       "<style scoped>\n",
       "    .dataframe tbody tr th:only-of-type {\n",
       "        vertical-align: middle;\n",
       "    }\n",
       "\n",
       "    .dataframe tbody tr th {\n",
       "        vertical-align: top;\n",
       "    }\n",
       "\n",
       "    .dataframe thead th {\n",
       "        text-align: right;\n",
       "    }\n",
       "</style>\n",
       "<table border=\"1\" class=\"dataframe\">\n",
       "  <thead>\n",
       "    <tr style=\"text-align: right;\">\n",
       "      <th></th>\n",
       "      <th>publico</th>\n",
       "      <th>focos_inca</th>\n",
       "      <th>focos_ahor</th>\n",
       "      <th>combustible</th>\n",
       "      <th>gasto_tri_ele</th>\n",
       "      <th>gasto_tri_total_gasolina</th>\n",
       "    </tr>\n",
       "  </thead>\n",
       "  <tbody>\n",
       "    <tr>\n",
       "      <th>count</th>\n",
       "      <td>9930.000000</td>\n",
       "      <td>9921.000000</td>\n",
       "      <td>9921.000000</td>\n",
       "      <td>9930.000000</td>\n",
       "      <td>8859.000000</td>\n",
       "      <td>4612.000000</td>\n",
       "    </tr>\n",
       "    <tr>\n",
       "      <th>mean</th>\n",
       "      <td>1513.564580</td>\n",
       "      <td>1.157545</td>\n",
       "      <td>6.647919</td>\n",
       "      <td>3.055791</td>\n",
       "      <td>785.309578</td>\n",
       "      <td>5050.491615</td>\n",
       "    </tr>\n",
       "    <tr>\n",
       "      <th>std</th>\n",
       "      <td>2227.492763</td>\n",
       "      <td>2.547428</td>\n",
       "      <td>5.691614</td>\n",
       "      <td>0.345480</td>\n",
       "      <td>1012.284715</td>\n",
       "      <td>4363.208649</td>\n",
       "    </tr>\n",
       "    <tr>\n",
       "      <th>min</th>\n",
       "      <td>0.000000</td>\n",
       "      <td>0.000000</td>\n",
       "      <td>0.000000</td>\n",
       "      <td>1.000000</td>\n",
       "      <td>12.500000</td>\n",
       "      <td>145.160000</td>\n",
       "    </tr>\n",
       "    <tr>\n",
       "      <th>25%</th>\n",
       "      <td>0.000000</td>\n",
       "      <td>0.000000</td>\n",
       "      <td>3.000000</td>\n",
       "      <td>3.000000</td>\n",
       "      <td>285.000000</td>\n",
       "      <td>2322.580000</td>\n",
       "    </tr>\n",
       "    <tr>\n",
       "      <th>50%</th>\n",
       "      <td>642.850000</td>\n",
       "      <td>0.000000</td>\n",
       "      <td>6.000000</td>\n",
       "      <td>3.000000</td>\n",
       "      <td>450.000000</td>\n",
       "      <td>3982.255000</td>\n",
       "    </tr>\n",
       "    <tr>\n",
       "      <th>75%</th>\n",
       "      <td>2262.820000</td>\n",
       "      <td>2.000000</td>\n",
       "      <td>8.000000</td>\n",
       "      <td>3.000000</td>\n",
       "      <td>900.000000</td>\n",
       "      <td>6000.000000</td>\n",
       "    </tr>\n",
       "    <tr>\n",
       "      <th>max</th>\n",
       "      <td>27642.830000</td>\n",
       "      <td>98.000000</td>\n",
       "      <td>89.000000</td>\n",
       "      <td>6.000000</td>\n",
       "      <td>18000.000000</td>\n",
       "      <td>84774.190000</td>\n",
       "    </tr>\n",
       "  </tbody>\n",
       "</table>\n",
       "</div>"
      ],
      "text/plain": [
       "            publico   focos_inca   focos_ahor  combustible  gasto_tri_ele  \\\n",
       "count   9930.000000  9921.000000  9921.000000  9930.000000    8859.000000   \n",
       "mean    1513.564580     1.157545     6.647919     3.055791     785.309578   \n",
       "std     2227.492763     2.547428     5.691614     0.345480    1012.284715   \n",
       "min        0.000000     0.000000     0.000000     1.000000      12.500000   \n",
       "25%        0.000000     0.000000     3.000000     3.000000     285.000000   \n",
       "50%      642.850000     0.000000     6.000000     3.000000     450.000000   \n",
       "75%     2262.820000     2.000000     8.000000     3.000000     900.000000   \n",
       "max    27642.830000    98.000000    89.000000     6.000000   18000.000000   \n",
       "\n",
       "       gasto_tri_total_gasolina  \n",
       "count               4612.000000  \n",
       "mean                5050.491615  \n",
       "std                 4363.208649  \n",
       "min                  145.160000  \n",
       "25%                 2322.580000  \n",
       "50%                 3982.255000  \n",
       "75%                 6000.000000  \n",
       "max                84774.190000  "
      ]
     },
     "execution_count": 8,
     "metadata": {},
     "output_type": "execute_result"
    }
   ],
   "source": [
    "no_GasData[var_cont].describe()"
   ]
  },
  {
   "cell_type": "markdown",
   "metadata": {},
   "source": [
    "## Histogramas"
   ]
  },
  {
   "cell_type": "code",
   "execution_count": 64,
   "metadata": {
    "scrolled": false
   },
   "outputs": [
    {
     "data": {
      "image/png": "[encoded data removed]",
      "text/plain": [
       "<Figure size 432x288 with 1 Axes>"
      ]
     },
     "metadata": {
      "needs_background": "light"
     },
     "output_type": "display_data"
    },
    {
     "data": {
      "image/png": "[encoded data removed]",
      "text/plain": [
       "<Figure size 432x288 with 1 Axes>"
      ]
     },
     "metadata": {
      "needs_background": "light"
     },
     "output_type": "display_data"
    },
    {
     "data": {
      "image/png": "[encoded data removed]",
      "text/plain": [
       "<Figure size 432x288 with 1 Axes>"
      ]
     },
     "metadata": {
      "needs_background": "light"
     },
     "output_type": "display_data"
    },
    {
     "data": {
      "image/png": "[encoded data removed]",
      "text/plain": [
       "<Figure size 432x288 with 1 Axes>"
      ]
     },
     "metadata": {
      "needs_background": "light"
     },
     "output_type": "display_data"
    },
    {
     "data": {
      "image/png": "[encoded data removed]",
      "text/plain": [
       "<Figure size 432x288 with 1 Axes>"
      ]
     },
     "metadata": {
      "needs_background": "light"
     },
     "output_type": "display_data"
    },
    {
     "data": {
      "image/png": "[encoded data removed]",
      "text/plain": [
       "<Figure size 432x288 with 1 Axes>"
      ]
     },
     "metadata": {
      "needs_background": "light"
     },
     "output_type": "display_data"
    },
    {
     "data": {
      "image/png": "[encoded data removed]",
      "text/plain": [
       "<Figure size 432x288 with 1 Axes>"
      ]
     },
     "metadata": {
      "needs_background": "light"
     },
     "output_type": "display_data"
    },
    {
     "data": {
      "image/png": "[encoded data removed]",
      "text/plain": [
       "<Figure size 432x288 with 1 Axes>"
      ]
     },
     "metadata": {
      "needs_background": "light"
     },
     "output_type": "display_data"
    },
    {
     "data": {
      "image/png": "[encoded data removed]",
      "text/plain": [
       "<Figure size 432x288 with 1 Axes>"
      ]
     },
     "metadata": {
      "needs_background": "light"
     },
     "output_type": "display_data"
    },
    {
     "data": {
      "image/png": "[encoded data removed]",
      "text/plain": [
       "<Figure size 432x288 with 1 Axes>"
      ]
     },
     "metadata": {
      "needs_background": "light"
     },
     "output_type": "display_data"
    },
    {
     "data": {
      "image/png": "[encoded data removed]",
      "text/plain": [
       "<Figure size 432x288 with 1 Axes>"
      ]
     },
     "metadata": {
      "needs_background": "light"
     },
     "output_type": "display_data"
    },
    {
     "data": {
      "image/png": "[encoded data removed]",
      "text/plain": [
       "<Figure size 432x288 with 1 Axes>"
      ]
     },
     "metadata": {
      "needs_background": "light"
     },
     "output_type": "display_data"
    },
    {
     "data": {
      "image/png": "[encoded data removed]",
      "text/plain": [
       "<Figure size 432x288 with 1 Axes>"
      ]
     },
     "metadata": {
      "needs_background": "light"
     },
     "output_type": "display_data"
    },
    {
     "data": {
      "image/png": "[encoded data removed]",
      "text/plain": [
       "<Figure size 432x288 with 1 Axes>"
      ]
     },
     "metadata": {
      "needs_background": "light"
     },
     "output_type": "display_data"
    },
    {
     "data": {
      "image/png": "[encoded data removed]",
      "text/plain": [
       "<Figure size 432x288 with 1 Axes>"
      ]
     },
     "metadata": {
      "needs_background": "light"
     },
     "output_type": "display_data"
    }
   ],
   "source": [
    "for i, col in enumerate(no_GasData[variables].columns):\n",
    "    plt.figure(i)\n",
    "    \n",
    "    arr, xbins, _ = plt.hist(GasData[col].dropna(),\n",
    "        weights = np.ones_like(GasData[col].dropna())/len(GasData[col].dropna()),\n",
    "        alpha=0.5, label='Gas $')\n",
    "    #for i in range(len(arr)):\n",
    "    #    plt.text(xbins[i],arr[i],str(arr[0]))\n",
    "    \n",
    "    plt.hist(no_GasData[col].dropna(),\n",
    "        weights = np.ones_like(no_GasData[col].dropna())/len(no_GasData[col].dropna()),\n",
    "        bins=xbins, alpha=0.5, label='No Gas $')\n",
    "    plt.title(col)\n",
    "    plt.legend()"
   ]
  },
  {
   "cell_type": "raw",
   "metadata": {
    "scrolled": false
   },
   "source": [
    "for i, col in enumerate(no_GasData[variables].columns):\n",
    "    plt.figure(i)\n",
    "    \n",
    "    GasData[col].plot.hist(\n",
    "        weights = np.ones_like(GasData[col].dropna())/len(GasData[col].dropna()),\n",
    "        alpha=0.5, title=col, label='Gas $')\n",
    "    \n",
    "    no_GasData[col].plot.hist(\n",
    "        weights = np.ones_like(no_GasData[col].dropna())/len(no_GasData[col].dropna()),\n",
    "        alpha=0.5, label='No Gas $')\n",
    "    plt.legend()"
   ]
  }
 ],
 "metadata": {
  "kernelspec": {
   "display_name": "Python 3",
   "language": "python",
   "name": "python3"
  },
  "language_info": {
   "codemirror_mode": {
    "name": "ipython",
    "version": 3
   },
   "file_extension": ".py",
   "mimetype": "text/x-python",
   "name": "python",
   "nbconvert_exporter": "python",
   "pygments_lexer": "ipython3",
   "version": "3.7.6"
  }
 },
 "nbformat": 4,
 "nbformat_minor": 4
}
