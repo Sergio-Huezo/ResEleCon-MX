{
 "cells": [
  {
   "cell_type": "markdown",
   "metadata": {},
   "source": [
    "# ENIGH Data\n",
    "\n",
    "This notebook extracts and cleans the data of the Income and Expenditure Survey. Such files can be downloaded from the INEGI's website with the following link:\n",
    "https://www.inegi.org.mx/programas/enigh/nc/2018/default.html#Microdatos"
   ]
  },
  {
   "cell_type": "code",
   "execution_count": 1,
   "metadata": {},
   "outputs": [],
   "source": [
    "import pandas as pd\n",
    "from functools import reduce"
   ]
  },
  {
   "cell_type": "markdown",
   "metadata": {},
   "source": [
    "## 2018"
   ]
  },
  {
   "cell_type": "markdown",
   "metadata": {},
   "source": [
    "### Directories and files' paths"
   ]
  },
  {
   "cell_type": "code",
   "execution_count": 2,
   "metadata": {},
   "outputs": [],
   "source": [
    "dataRoot = r'D:\\Tesis\\Datos' #path of data folder\n",
    "\n",
    "# files\n",
    "tabConHogar_2018 = r'\\Ingresos y Gastos de los Hogares\\2018\\concentradohogar.csv'\n",
    "\n",
    "tabPoblacion_2018 = r'\\Ingresos y Gastos de los Hogares\\2018\\poblacion.csv'\n",
    "\n",
    "tabViviendas_2018 = r'\\Ingresos y Gastos de los Hogares\\2018\\viviendas.csv'\n",
    "\n",
    "tabGastosH_2018 = r'\\Ingresos y Gastos de los Hogares\\2018\\gastoshogar.csv'\n",
    "\n",
    "tabGastosP_2018 = r'\\Ingresos y Gastos de los Hogares\\2018\\gastospersona.csv'"
   ]
  },
  {
   "cell_type": "markdown",
   "metadata": {},
   "source": [
    "### Read files\n",
    "The taken columns correspond to demographic and energy consumption indicators."
   ]
  },
  {
   "cell_type": "code",
   "execution_count": 3,
   "metadata": {},
   "outputs": [],
   "source": [
    "concentrador_cols = list(range(17)) + [19, 22, 56,82,92] # columns of interest\n",
    "concentrador_2018 = pd.read_csv(dataRoot + tabConHogar_2018, usecols=concentrador_cols, na_values=' ') # read tabla concentrador hogar"
   ]
  },
  {
   "cell_type": "code",
   "execution_count": 4,
   "metadata": {},
   "outputs": [],
   "source": [
    "poblacion_cols = [0,1,2,5,40] # columns of interest\n",
    "poblacion_2018 = pd.read_csv(dataRoot + tabPoblacion_2018, usecols=poblacion_cols, na_values=' ') # read tabla poblacion"
   ]
  },
  {
   "cell_type": "code",
   "execution_count": 5,
   "metadata": {},
   "outputs": [],
   "source": [
    "vivienda_cols = [0,1,5,10] + list(range(21,25)) + [27,46,47,50,51,52]  # columns of interest\n",
    "vivienda_2018 = pd.read_csv(dataRoot + tabViviendas_2018, usecols=vivienda_cols, na_values=['&',' '], dtype={'combustible': float}) # read tabla vivienda"
   ]
  },
  {
   "cell_type": "code",
   "execution_count": 6,
   "metadata": {},
   "outputs": [],
   "source": [
    "gastosH_cols = [0,1,2,23]\n",
    "gastosH_2018 = pd.read_csv(dataRoot + tabGastosH_2018, usecols=gastosH_cols, na_values=' ') # read tabla gastoshogar\n",
    "gastosH_2018 = gastosH_2018.groupby(['folioviv', 'foliohog', 'clave'],as_index=False).sum(min_count=1)"
   ]
  },
  {
   "cell_type": "code",
   "execution_count": 7,
   "metadata": {},
   "outputs": [],
   "source": [
    "gastosP_cols = [0,1,3,17]\n",
    "gastosP_2018 = pd.read_csv(dataRoot + tabGastosP_2018, usecols=gastosP_cols, na_values=' ') # read tabla gastoshogar\n",
    "gastosP_2018 = gastosP_2018.groupby(['folioviv', 'foliohog', 'clave'],as_index=False).sum(min_count=1)"
   ]
  },
  {
   "cell_type": "markdown",
   "metadata": {},
   "source": [
    "### Age and Education\n",
    "This section takes variables from the Poblacion table to build more accurate variables regarding age and education"
   ]
  },
  {
   "cell_type": "code",
   "execution_count": 8,
   "metadata": {},
   "outputs": [],
   "source": [
    "# Transform values to school years\n",
    "dic_edu = {0:0,1:0,2:6,3:9,4:12,5:15,6:15,7:16,8:18,9:21} # for mapping the number of school years equivalent to each value \n",
    "poblacion_2018['nivelaprob'] = poblacion_2018['nivelaprob'].map(dic_edu)"
   ]
  },
  {
   "cell_type": "code",
   "execution_count": 9,
   "metadata": {},
   "outputs": [],
   "source": [
    "# Age\n",
    "pobEdad = poblacion_2018.groupby(['folioviv','foliohog'], sort=False, as_index=False)['edad'].mean() # Get average age\n",
    "\n",
    "# Education\n",
    "pobEdu = poblacion_2018.loc[poblacion_2018['edad']>=15].groupby(['folioviv','foliohog'], \n",
    "                            sort=False, as_index=False)['nivelaprob'].mean() # Get mean education of population > 15 y\n",
    "pobEdu_men15 = poblacion_2018.groupby(['folioviv','foliohog'], \n",
    "                            sort=False, as_index=False)['nivelaprob'].mean() # Get mean poblacion_2018 of whole population to fill houses with no >15 population\n",
    "\n",
    "# merge\n",
    "pob = pobEdad.merge(pobEdu, on=['folioviv','foliohog'], how='left')\n",
    "pob['nivelaprob'] = pob['nivelaprob'].fillna(pobEdu_men15['nivelaprob']) # give a value for households with no population older than 15 years old"
   ]
  },
  {
   "cell_type": "code",
   "execution_count": 10,
   "metadata": {},
   "outputs": [],
   "source": [
    "# Merge with concentrador Hogar\n",
    "con_2018 = concentrador_2018.merge(pob, on=['folioviv','foliohog'], how='left')"
   ]
  },
  {
   "cell_type": "code",
   "execution_count": 11,
   "metadata": {},
   "outputs": [],
   "source": [
    "# del concentrador_2018, poblacion_2018, pob, pobEdad, pobEdu, pobEdu_men15"
   ]
  },
  {
   "cell_type": "markdown",
   "metadata": {},
   "source": [
    "### Housing characteristics\n",
    "From Vivienda table"
   ]
  },
  {
   "cell_type": "code",
   "execution_count": 12,
   "metadata": {},
   "outputs": [],
   "source": [
    "# Merge dataframes\n",
    "con_2018 = con_2018.merge(vivienda_2018, on=['folioviv'], how='left')"
   ]
  },
  {
   "cell_type": "markdown",
   "metadata": {},
   "source": [
    "### Expenses\n",
    "Energy expenses"
   ]
  },
  {
   "cell_type": "code",
   "execution_count": 13,
   "metadata": {},
   "outputs": [],
   "source": [
    "# Expenses' keys\n",
    "claves = ['R001','R003','G009','G010','G011','G012','G013','G014']\n",
    "dic_cves = {'R001':'ele', 'R003':'gas', 'G009':'lpg', 'G010':'oil', 'G011':'diesel', 'G012':'coal', \n",
    "            'G013':'wood', 'G014':'heat', 'F007':'Magna', 'F008':'Premium', 'F009':'Die-Gas'}"
   ]
  },
  {
   "cell_type": "code",
   "execution_count": 14,
   "metadata": {},
   "outputs": [],
   "source": [
    "# Sort every type of expenses into columns\n",
    "\n",
    "def mergeGastos(gastoDF):\n",
    "    gastoList = []\n",
    "    for clave in dic_cves:\n",
    "        gasto_x = gastoDF.loc[gastoDF['clave']==clave].copy()\n",
    "        gasto_x.rename(columns={'gasto_tri':'gasto_tri_' + dic_cves[clave]}, inplace=True)\n",
    "        gasto_x.drop(['clave'], axis=1, inplace=True)\n",
    "        gastoList.append(gasto_x)\n",
    "\n",
    "    # merge all the expenses\n",
    "    return reduce(lambda  left,right: pd.merge(left,right, on=['folioviv','foliohog'], how='outer'), gastoList)"
   ]
  },
  {
   "cell_type": "code",
   "execution_count": 15,
   "metadata": {},
   "outputs": [],
   "source": [
    "gastH_2018 = mergeGastos(gastosH_2018)\n",
    "gastP_2018 = mergeGastos(gastosP_2018)"
   ]
  },
  {
   "cell_type": "code",
   "execution_count": 16,
   "metadata": {},
   "outputs": [],
   "source": [
    "# Sum expenses from hogar and persona\n",
    "gasto_2018 = gastH_2018.set_index(['folioviv', 'foliohog']).add(gastP_2018.set_index(['folioviv', 'foliohog']), fill_value=0)\n",
    "gasto_2018.reset_index(inplace=True)"
   ]
  },
  {
   "cell_type": "code",
   "execution_count": 17,
   "metadata": {},
   "outputs": [],
   "source": [
    "# Merge with concentrador Hogar\n",
    "con_2018 = con_2018.merge(gasto_2018, on=['folioviv','foliohog'], how='left')"
   ]
  },
  {
   "cell_type": "markdown",
   "metadata": {},
   "source": [
    "### Completeness"
   ]
  },
  {
   "cell_type": "code",
   "execution_count": 18,
   "metadata": {},
   "outputs": [],
   "source": [
    "subset = list(con_2018)[list(con_2018).index('folioviv'):list(con_2018).index('factor')] + \\\n",
    "            list(con_2018)[list(con_2018).index('disp_elect'):]"
   ]
  },
  {
   "cell_type": "code",
   "execution_count": 19,
   "metadata": {},
   "outputs": [
    {
     "data": {
      "text/plain": [
       "folioviv             100.000000\n",
       "foliohog             100.000000\n",
       "ubica_geo            100.000000\n",
       "tam_loc              100.000000\n",
       "est_socio            100.000000\n",
       "est_dis              100.000000\n",
       "upm                  100.000000\n",
       "disp_elect           100.000000\n",
       "focos_inca            99.332860\n",
       "focos_ahor            99.332860\n",
       "combustible           99.998660\n",
       "tenencia             100.000000\n",
       "calent_sol           100.000000\n",
       "calent_gas           100.000000\n",
       "tanque_gas           100.000000\n",
       "aire_acond           100.000000\n",
       "calefacc             100.000000\n",
       "gasto_tri_ele         88.250030\n",
       "gasto_tri_gas          6.146262\n",
       "gasto_tri_lpg         50.797755\n",
       "gasto_tri_oil          0.146021\n",
       "gasto_tri_diesel       0.179512\n",
       "gasto_tri_coal         2.330971\n",
       "gasto_tri_wood         4.176993\n",
       "gasto_tri_heat         0.336249\n",
       "gasto_tri_Magna       42.735810\n",
       "gasto_tri_Premium      3.284794\n",
       "gasto_tri_Die-Gas      0.288022\n",
       "dtype: float64"
      ]
     },
     "execution_count": 19,
     "metadata": {},
     "output_type": "execute_result"
    }
   ],
   "source": [
    "percent_completeness = con_2018[subset].notnull().sum() * 100 / len(con_2018[subset])\n",
    "percent_completeness"
   ]
  },
  {
   "cell_type": "code",
   "execution_count": 20,
   "metadata": {},
   "outputs": [
    {
     "name": "stdout",
     "output_type": "stream",
     "text": [
      "   disp_elect         key\n",
      "1   98.263828      public\n",
      "5    0.667140     no elec\n",
      "4    0.610875       other\n",
      "3    0.282664       solar\n",
      "2    0.175493  priv plant \n",
      " ------------------------------\n",
      "     combustible       key\n",
      "3.0    74.854984  gas tank\n",
      "1.0    17.635002      wood\n",
      "4.0     5.141533  gas pipe\n",
      "5.0     1.302129      elec\n",
      "6.0     0.683216     other\n",
      "2.0     0.381797      coal\n",
      "NaN     0.001340       NaN \n",
      " ------------------------------\n",
      "   calent_sol  key\n",
      "2   92.043887   no\n",
      "1    7.956113  yes \n",
      " ------------------------------\n",
      "   calent_gas  key\n",
      "2   65.710611   no\n",
      "1   34.289389  yes \n",
      " ------------------------------\n",
      "   tanque_gas  key\n",
      "2   91.087385   no\n",
      "1    8.912615  yes \n",
      " ------------------------------\n",
      "   aire_acond  key\n",
      "2   81.484855   no\n",
      "1   18.515145  yes \n",
      " ------------------------------\n",
      "    calefacc  key\n",
      "2  97.366271   no\n",
      "1   2.633729  yes \n",
      " ------------------------------\n",
      "    tenencia               key\n",
      "4  62.819671               own\n",
      "2  13.721918              lend\n",
      "1  12.351468            rented\n",
      "3   8.572347  owned and paying\n",
      "5   1.795116         litigated\n",
      "6   0.739480             other \n",
      " ------------------------------\n"
     ]
    }
   ],
   "source": [
    "keyDict = {1:'public', 2:'priv plant', 3:'solar', 4:'other', 5:'no elec'}\n",
    "s = (con_2018['disp_elect'].value_counts(normalize=True, dropna=False) * 100).to_frame()\n",
    "s['key'] = s.index.to_series().map(keyDict)\n",
    "print(s,'\\n','-'*30)\n",
    "\n",
    "keyDict = {1:'wood', 2:'coal', 3:'gas tank', 4:'gas pipe', 5:'elec', 6:'other'}\n",
    "s = (con_2018['combustible'].value_counts(normalize=True, dropna=False) * 100).to_frame()\n",
    "s['key'] = s.index.to_series().map(keyDict)\n",
    "print(s,'\\n','-'*30)\n",
    "\n",
    "keyDict = {1:'yes', 2:'no'}\n",
    "s = (con_2018['calent_sol'].value_counts(normalize=True, dropna=False) * 100).to_frame()\n",
    "s['key'] = s.index.to_series().map(keyDict)\n",
    "print(s,'\\n','-'*30)\n",
    "\n",
    "s = (con_2018['calent_gas'].value_counts(normalize=True, dropna=False) * 100).to_frame()\n",
    "s['key'] = s.index.to_series().map(keyDict)\n",
    "print(s,'\\n','-'*30)\n",
    "\n",
    "s = (con_2018['tanque_gas'].value_counts(normalize=True, dropna=False) * 100).to_frame()\n",
    "s['key'] = s.index.to_series().map(keyDict)\n",
    "print(s,'\\n','-'*30)\n",
    "\n",
    "s = (con_2018['aire_acond'].value_counts(normalize=True, dropna=False) * 100).to_frame()\n",
    "s['key'] = s.index.to_series().map(keyDict)\n",
    "print(s,'\\n','-'*30)\n",
    "\n",
    "s = (con_2018['calefacc'].value_counts(normalize=True, dropna=False) * 100).to_frame()\n",
    "s['key'] = s.index.to_series().map(keyDict)\n",
    "print(s,'\\n','-'*30)\n",
    "\n",
    "keyDict = {1:'rented', 2:'lend', 3:'owned and paying', 4:'own', 5:'litigated', 6:'other'}\n",
    "s = (con_2018['tenencia'].value_counts(normalize=True, dropna=False) * 100).to_frame()\n",
    "s['key'] = s.index.to_series().map(keyDict)\n",
    "print(s,'\\n','-'*30)"
   ]
  },
  {
   "cell_type": "markdown",
   "metadata": {},
   "source": [
    "## 2016"
   ]
  },
  {
   "cell_type": "markdown",
   "metadata": {},
   "source": [
    "### Directories and files' paths"
   ]
  },
  {
   "cell_type": "code",
   "execution_count": 21,
   "metadata": {},
   "outputs": [],
   "source": [
    "dataRoot = r'D:\\Tesis\\Datos' #path of data folder\n",
    "\n",
    "# files\n",
    "tabConHogar_2016 = r'\\Ingresos y Gastos de los Hogares\\2016\\concentradohogar.csv'\n",
    "\n",
    "tabPoblacion_2016 = r'\\Ingresos y Gastos de los Hogares\\2016\\poblacion.csv'\n",
    "\n",
    "tabViviendas_2016 = r'\\Ingresos y Gastos de los Hogares\\2016\\viviendas.csv'\n",
    "\n",
    "tabGastosH_2016 = r'\\Ingresos y Gastos de los Hogares\\2016\\gastoshogar.csv'\n",
    "\n",
    "tabGastosP_2016 = r'\\Ingresos y Gastos de los Hogares\\2016\\gastospersona.csv'"
   ]
  },
  {
   "cell_type": "markdown",
   "metadata": {},
   "source": [
    "### Read files\n",
    "The taken columns correspond to demographic and energy consumption indicators."
   ]
  },
  {
   "cell_type": "code",
   "execution_count": 22,
   "metadata": {},
   "outputs": [],
   "source": [
    "concentrador_cols = [0,1,2] + list(range(4,18)) + [20, 23, 57,83,93] # columns of interest\n",
    "concentrador_2016 = pd.read_csv(dataRoot + tabConHogar_2016, usecols=concentrador_cols, na_values=' ') # read tabla concentrador hogar"
   ]
  },
  {
   "cell_type": "code",
   "execution_count": 23,
   "metadata": {},
   "outputs": [],
   "source": [
    "poblacion_cols = [0,1,2,5,40] # columns of interest\n",
    "poblacion_2016 = pd.read_csv(dataRoot + tabPoblacion_2016, usecols=poblacion_cols, na_values=' ') # read tabla poblacion"
   ]
  },
  {
   "cell_type": "code",
   "execution_count": 24,
   "metadata": {},
   "outputs": [],
   "source": [
    "vivienda_cols = [0,1,5,10] + list(range(21,25)) + [27,46,47,50,51,52]  # columns of interest\n",
    "vivienda_2016 = pd.read_csv(dataRoot + tabViviendas_2016, usecols=vivienda_cols, na_values=['&',' '], dtype={'combustible': float}) # read tabla vivienda"
   ]
  },
  {
   "cell_type": "code",
   "execution_count": 25,
   "metadata": {},
   "outputs": [],
   "source": [
    "gastosH_cols = [0,1,2,23]\n",
    "gastosH_2016 = pd.read_csv(dataRoot + tabGastosH_2016, usecols=gastosH_cols, na_values=' ') # read tabla gastoshogar\n",
    "gastosH_2016 = gastosH_2016.groupby(['folioviv', 'foliohog', 'clave'],as_index=False).sum(min_count=1)"
   ]
  },
  {
   "cell_type": "code",
   "execution_count": 26,
   "metadata": {},
   "outputs": [],
   "source": [
    "gastosP_cols = [0,1,3,17]\n",
    "gastosP_2016 = pd.read_csv(dataRoot + tabGastosP_2016, usecols=gastosP_cols, na_values=' ') # read tabla gastoshogar\n",
    "gastosP_2016 = gastosP_2016.groupby(['folioviv', 'foliohog', 'clave'],as_index=False).sum(min_count=1)"
   ]
  },
  {
   "cell_type": "markdown",
   "metadata": {},
   "source": [
    "### Age and Education\n",
    "This section takes variables from the Poblacion table to build more accurate variables regarding age and education"
   ]
  },
  {
   "cell_type": "code",
   "execution_count": 27,
   "metadata": {},
   "outputs": [],
   "source": [
    "# Transform values to school years\n",
    "dic_edu = {0:0,1:0,2:6,3:9,4:12,5:15,6:15,7:16,8:18,9:21} # for mapping the number of school years equivalent to each value \n",
    "poblacion_2016['nivelaprob'] = poblacion_2016['nivelaprob'].map(dic_edu)"
   ]
  },
  {
   "cell_type": "code",
   "execution_count": 28,
   "metadata": {},
   "outputs": [],
   "source": [
    "# Age\n",
    "pobEdad = poblacion_2016.groupby(['folioviv','foliohog'], sort=False, as_index=False)['edad'].mean() # Get average age\n",
    "\n",
    "# Education\n",
    "pobEdu = poblacion_2016.loc[poblacion_2016['edad']>=15].groupby(['folioviv','foliohog'], \n",
    "                            sort=False, as_index=False)['nivelaprob'].mean() # Get mean education of population > 15 y\n",
    "pobEdu_men15 = poblacion_2016.groupby(['folioviv','foliohog'], \n",
    "                            sort=False, as_index=False)['nivelaprob'].mean() # Get mean poblacion_2016 of whole population to fill houses with no >15 population\n",
    "\n",
    "# merge\n",
    "pob = pobEdad.merge(pobEdu, on=['folioviv','foliohog'], how='left')\n",
    "pob['nivelaprob'] = pob['nivelaprob'].fillna(pobEdu_men15['nivelaprob']) # give a value for households with no population older than 15 years old"
   ]
  },
  {
   "cell_type": "code",
   "execution_count": 29,
   "metadata": {},
   "outputs": [],
   "source": [
    "# Merge with concentrador Hogar\n",
    "con_2016 = concentrador_2016.merge(pob, on=['folioviv','foliohog'], how='left')"
   ]
  },
  {
   "cell_type": "code",
   "execution_count": 30,
   "metadata": {},
   "outputs": [],
   "source": [
    "# del concentrador_2018, poblacion_2018, pob, pobEdad, pobEdu, pobEdu_men15"
   ]
  },
  {
   "cell_type": "markdown",
   "metadata": {},
   "source": [
    "### Housing characteristics\n",
    "From Vivienda table"
   ]
  },
  {
   "cell_type": "code",
   "execution_count": 31,
   "metadata": {},
   "outputs": [],
   "source": [
    "# Merge dataframes\n",
    "con_2016 = con_2016.merge(vivienda_2016, on=['folioviv'], how='left')"
   ]
  },
  {
   "cell_type": "markdown",
   "metadata": {},
   "source": [
    "### Expenses\n",
    "Energy expenses"
   ]
  },
  {
   "cell_type": "code",
   "execution_count": 32,
   "metadata": {},
   "outputs": [],
   "source": [
    "# Expenses' keys\n",
    "claves = ['R001','R003','G009','G010','G011','G012','G013','G014']\n",
    "dic_cves = {'R001':'ele', 'R003':'gas', 'G009':'lpg', 'G010':'oil', 'G011':'diesel', 'G012':'coal', \n",
    "            'G013':'wood', 'G014':'heat', 'F007':'Magna', 'F008':'Premium', 'F009':'Die-Gas'}"
   ]
  },
  {
   "cell_type": "code",
   "execution_count": 33,
   "metadata": {},
   "outputs": [],
   "source": [
    "gastH_2016 = mergeGastos(gastosH_2016)\n",
    "gastP_2016 = mergeGastos(gastosP_2016)"
   ]
  },
  {
   "cell_type": "code",
   "execution_count": 34,
   "metadata": {},
   "outputs": [],
   "source": [
    "# Sum expenses from hogar and persona\n",
    "gasto_2016 = gastH_2016.set_index(['folioviv', 'foliohog']).add(gastP_2016.set_index(['folioviv', 'foliohog']), fill_value=0)\n",
    "gasto_2016.reset_index(inplace=True)"
   ]
  },
  {
   "cell_type": "code",
   "execution_count": 35,
   "metadata": {},
   "outputs": [],
   "source": [
    "# Merge with concentrador Hogar\n",
    "con_2016 = con_2016.merge(gasto_2016, on=['folioviv','foliohog'], how='left')"
   ]
  },
  {
   "cell_type": "markdown",
   "metadata": {},
   "source": [
    "### Completeness"
   ]
  },
  {
   "cell_type": "code",
   "execution_count": 36,
   "metadata": {},
   "outputs": [],
   "source": [
    "subset = list(con_2016)[list(con_2016).index('folioviv'):list(con_2016).index('factor')] + \\\n",
    "            list(con_2016)[list(con_2016).index('disp_elect'):]"
   ]
  },
  {
   "cell_type": "code",
   "execution_count": 40,
   "metadata": {},
   "outputs": [
    {
     "data": {
      "text/plain": [
       "folioviv             100.000000\n",
       "foliohog             100.000000\n",
       "ubica_geo            100.000000\n",
       "tam_loc              100.000000\n",
       "est_socio            100.000000\n",
       "est_dis              100.000000\n",
       "upm                  100.000000\n",
       "disp_elect           100.000000\n",
       "focos_inca            99.270384\n",
       "focos_ahor            99.270384\n",
       "combustible          100.000000\n",
       "tenencia             100.000000\n",
       "calent_sol           100.000000\n",
       "calent_gas           100.000000\n",
       "tanque_gas           100.000000\n",
       "aire_acond           100.000000\n",
       "calefacc             100.000000\n",
       "gasto_tri_ele         88.848118\n",
       "gasto_tri_gas          6.354624\n",
       "gasto_tri_lpg         48.103426\n",
       "gasto_tri_oil          0.146492\n",
       "gasto_tri_diesel       0.257428\n",
       "gasto_tri_coal         2.311160\n",
       "gasto_tri_wood         3.788881\n",
       "gasto_tri_heat         0.732460\n",
       "gasto_tri_Magna       40.170101\n",
       "gasto_tri_Premium      4.936639\n",
       "gasto_tri_Die-Gas      0.391119\n",
       "dtype: float64"
      ]
     },
     "execution_count": 40,
     "metadata": {},
     "output_type": "execute_result"
    }
   ],
   "source": [
    "percent_completeness = con_2016[subset].notnull().sum() * 100 / len(con_2016[subset])\n",
    "percent_completeness"
   ]
  },
  {
   "cell_type": "code",
   "execution_count": 38,
   "metadata": {},
   "outputs": [
    {
     "name": "stdout",
     "output_type": "stream",
     "text": [
      "   disp_elect         key\n",
      "1   98.311786      public\n",
      "5    0.729616     no elec\n",
      "4    0.520544       other\n",
      "3    0.285873       solar\n",
      "2    0.152181  priv plant \n",
      " ------------------------------\n",
      "     combustible       key\n",
      "3.0    75.980999  gas tank\n",
      "1.0    16.651733      wood\n",
      "4.0     5.194066  gas pipe\n",
      "5.0     1.099401      elec\n",
      "6.0     0.768016     other\n",
      "2.0     0.305784      coal \n",
      " ------------------------------\n",
      "   calent_sol  key\n",
      "2   95.131629   no\n",
      "1    4.868371  yes \n",
      " ------------------------------\n",
      "   calent_gas  key\n",
      "2   64.600134   no\n",
      "1   35.399866  yes \n",
      " ------------------------------\n",
      "   tanque_gas  key\n",
      "2   91.354127   no\n",
      "1    8.645873  yes \n",
      " ------------------------------\n",
      "   aire_acond  key\n",
      "2   81.933126   no\n",
      "1   18.066874  yes \n",
      " ------------------------------\n",
      "    calefacc  key\n",
      "2  97.603504   no\n",
      "1   2.396496  yes \n",
      " ------------------------------\n",
      "    tenencia               key\n",
      "4  62.141059               own\n",
      "2  13.754605              lend\n",
      "1  12.165948            rented\n",
      "3   9.645717  owned and paying\n",
      "5   1.544566         litigated\n",
      "6   0.748105             other \n",
      " ------------------------------\n"
     ]
    }
   ],
   "source": [
    "keyDict = {1:'public', 2:'priv plant', 3:'solar', 4:'other', 5:'no elec'}\n",
    "s = (con_2016['disp_elect'].value_counts(normalize=True, dropna=False) * 100).to_frame()\n",
    "s['key'] = s.index.to_series().map(keyDict)\n",
    "print(s,'\\n','-'*30)\n",
    "\n",
    "keyDict = {1:'wood', 2:'coal', 3:'gas tank', 4:'gas pipe', 5:'elec', 6:'other'}\n",
    "s = (con_2016['combustible'].value_counts(normalize=True, dropna=False) * 100).to_frame()\n",
    "s['key'] = s.index.to_series().map(keyDict)\n",
    "print(s,'\\n','-'*30)\n",
    "\n",
    "keyDict = {1:'yes', 2:'no'}\n",
    "s = (con_2016['calent_sol'].value_counts(normalize=True, dropna=False) * 100).to_frame()\n",
    "s['key'] = s.index.to_series().map(keyDict)\n",
    "print(s,'\\n','-'*30)\n",
    "\n",
    "s = (con_2016['calent_gas'].value_counts(normalize=True, dropna=False) * 100).to_frame()\n",
    "s['key'] = s.index.to_series().map(keyDict)\n",
    "print(s,'\\n','-'*30)\n",
    "\n",
    "s = (con_2016['tanque_gas'].value_counts(normalize=True, dropna=False) * 100).to_frame()\n",
    "s['key'] = s.index.to_series().map(keyDict)\n",
    "print(s,'\\n','-'*30)\n",
    "\n",
    "s = (con_2016['aire_acond'].value_counts(normalize=True, dropna=False) * 100).to_frame()\n",
    "s['key'] = s.index.to_series().map(keyDict)\n",
    "print(s,'\\n','-'*30)\n",
    "\n",
    "s = (con_2016['calefacc'].value_counts(normalize=True, dropna=False) * 100).to_frame()\n",
    "s['key'] = s.index.to_series().map(keyDict)\n",
    "print(s,'\\n','-'*30)\n",
    "\n",
    "keyDict = {1:'rented', 2:'lend', 3:'owned and paying', 4:'own', 5:'litigated', 6:'other'}\n",
    "s = (con_2016['tenencia'].value_counts(normalize=True, dropna=False) * 100).to_frame()\n",
    "s['key'] = s.index.to_series().map(keyDict)\n",
    "print(s,'\\n','-'*30)"
   ]
  }
 ],
 "metadata": {
  "kernelspec": {
   "display_name": "Python 3",
   "language": "python",
   "name": "python3"
  },
  "language_info": {
   "codemirror_mode": {
    "name": "ipython",
    "version": 3
   },
   "file_extension": ".py",
   "mimetype": "text/x-python",
   "name": "python",
   "nbconvert_exporter": "python",
   "pygments_lexer": "ipython3",
   "version": "3.7.6"
  }
 },
 "nbformat": 4,
 "nbformat_minor": 4
}
