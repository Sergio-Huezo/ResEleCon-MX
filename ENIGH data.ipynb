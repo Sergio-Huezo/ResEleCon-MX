{
 "cells": [
  {
   "cell_type": "markdown",
   "metadata": {},
   "source": [
    "# ENIGH Data\n",
    "\n",
    "This notebook extracts and cleans the data of the Income and Expenditure Survey. Such files can be downloaded from the INEGI's website with the following link:\n",
    "https://www.inegi.org.mx/programas/enigh/nc/2018/default.html#Microdatos"
   ]
  },
  {
   "cell_type": "code",
   "execution_count": 1,
   "metadata": {},
   "outputs": [],
   "source": [
    "import pandas as pd\n",
    "from functools import reduce"
   ]
  },
  {
   "cell_type": "markdown",
   "metadata": {},
   "source": [
    "### Directories and files' paths"
   ]
  },
  {
   "cell_type": "code",
   "execution_count": 2,
   "metadata": {},
   "outputs": [],
   "source": [
    "dataRoot = r'D:\\Tesis\\Datos' #path of data folder\n",
    "\n",
    "# files\n",
    "tabConHogar_2018 = r'\\Ingresos y Gastos de los Hogares\\2018\\concentradohogar.csv'\n",
    "\n",
    "tabPoblacion_2018 = r'\\Ingresos y Gastos de los Hogares\\2018\\poblacion.csv'\n",
    "\n",
    "tabViviendas_2018 = r'\\Ingresos y Gastos de los Hogares\\2018\\viviendas.csv'\n",
    "\n",
    "tabGastosH_2018 = r'\\Ingresos y Gastos de los Hogares\\2018\\gastoshogar.csv'\n",
    "\n",
    "tabGastosP_2018 = r'\\Ingresos y Gastos de los Hogares\\2018\\gastospersona.csv'"
   ]
  },
  {
   "cell_type": "markdown",
   "metadata": {},
   "source": [
    "### Read files\n",
    "The taken columns correspond to demographic and energy consumption indicators."
   ]
  },
  {
   "cell_type": "code",
   "execution_count": 3,
   "metadata": {},
   "outputs": [],
   "source": [
    "concentrador_cols = list(range(17)) + [19, 22, 56,82,92] # columns of interest\n",
    "concentrador_2018 = pd.read_csv(dataRoot + tabConHogar_2018, usecols=concentrador_cols, na_values=' ') # read tabla concentrador hogar"
   ]
  },
  {
   "cell_type": "code",
   "execution_count": 4,
   "metadata": {},
   "outputs": [],
   "source": [
    "poblacion_cols = [0,1,2,5,40] # columns of interest\n",
    "poblacion_2018 = pd.read_csv(dataRoot + tabPoblacion_2018, usecols=poblacion_cols, na_values=' ') # read tabla poblacion"
   ]
  },
  {
   "cell_type": "code",
   "execution_count": 5,
   "metadata": {},
   "outputs": [],
   "source": [
    "vivienda_cols = [0,1,5,10] + list(range(21,25)) + [27,46,47,50,51,52]  # columns of interest\n",
    "vivienda_2018 = pd.read_csv(dataRoot + tabViviendas_2018, usecols=vivienda_cols, na_values=['&',' '], dtype={'combustible': float}) # read tabla vivienda"
   ]
  },
  {
   "cell_type": "code",
   "execution_count": 6,
   "metadata": {},
   "outputs": [],
   "source": [
    "gastosH_cols = [0,1,2,23]\n",
    "gastosH_2018 = pd.read_csv(dataRoot + tabGastosH_2018, usecols=gastosH_cols, na_values=' ') # read tabla gastoshogar\n",
    "gastosH_2018 = gastosH_2018.groupby(['folioviv', 'foliohog', 'clave'],as_index=False).sum(min_count=1)"
   ]
  },
  {
   "cell_type": "code",
   "execution_count": 7,
   "metadata": {},
   "outputs": [],
   "source": [
    "gastosP_cols = [0,1,3,17]\n",
    "gastosP_2018 = pd.read_csv(dataRoot + tabGastosP_2018, usecols=gastosP_cols, na_values=' ') # read tabla gastoshogar\n",
    "gastosP_2018 = gastosP_2018.groupby(['folioviv', 'foliohog', 'clave'],as_index=False).sum(min_count=1)"
   ]
  },
  {
   "cell_type": "markdown",
   "metadata": {},
   "source": [
    "### Age and Education\n",
    "This section takes variables from the Poblacion table to build more accurate variables regarding age and education"
   ]
  },
  {
   "cell_type": "code",
   "execution_count": 8,
   "metadata": {},
   "outputs": [],
   "source": [
    "# Transform values to school years\n",
    "dic_edu = {0:0,1:0,2:6,3:9,4:12,5:15,6:15,7:16,8:18,9:21} # for mapping the number of school years equivalent to each value \n",
    "poblacion_2018['nivelaprob'] = poblacion_2018['nivelaprob'].map(dic_edu)"
   ]
  },
  {
   "cell_type": "code",
   "execution_count": 9,
   "metadata": {},
   "outputs": [],
   "source": [
    "# Age\n",
    "pobEdad = poblacion_2018.groupby(['folioviv','foliohog'], sort=False, as_index=False)['edad'].mean() # Get average age\n",
    "\n",
    "# Education\n",
    "pobEdu = poblacion_2018.loc[poblacion_2018['edad']>=15].groupby(['folioviv','foliohog'], \n",
    "                            sort=False, as_index=False)['nivelaprob'].mean() # Get mean education of population > 15 y\n",
    "pobEdu_men15 = poblacion_2018.groupby(['folioviv','foliohog'], \n",
    "                            sort=False, as_index=False)['nivelaprob'].mean() # Get mean poblacion_2018 of whole population to fill houses with no >15 population\n",
    "\n",
    "# merge\n",
    "pob = pobEdad.merge(pobEdu, on=['folioviv','foliohog'], how='left')\n",
    "pob['nivelaprob'] = pob['nivelaprob'].fillna(pobEdu_men15['nivelaprob']) # give a value for households with no population older than 15 years old"
   ]
  },
  {
   "cell_type": "code",
   "execution_count": 10,
   "metadata": {},
   "outputs": [],
   "source": [
    "# Merge with concentrador Hogar\n",
    "con_2018 = concentrador_2018.merge(pob, on=['folioviv','foliohog'], how='left')"
   ]
  },
  {
   "cell_type": "code",
   "execution_count": 11,
   "metadata": {},
   "outputs": [],
   "source": [
    "# del concentrador_2018, poblacion_2018, pob, pobEdad, pobEdu, pobEdu_men15"
   ]
  },
  {
   "cell_type": "markdown",
   "metadata": {},
   "source": [
    "### Housing characteristics\n",
    "From Vivienda table"
   ]
  },
  {
   "cell_type": "code",
   "execution_count": 12,
   "metadata": {},
   "outputs": [],
   "source": [
    "# Merge dataframes\n",
    "con_2018 = con_2018.merge(vivienda_2018, on=['folioviv'], how='left')"
   ]
  },
  {
   "cell_type": "markdown",
   "metadata": {},
   "source": [
    "### Expenses\n",
    "Energy expenses"
   ]
  },
  {
   "cell_type": "code",
   "execution_count": 13,
   "metadata": {},
   "outputs": [],
   "source": [
    "# Expenses' keys\n",
    "claves = ['R001','R003','G009','G010','G011','G012','G013','G014']\n",
    "dic_cves = {'R001':'ele', 'R003':'gas', 'G009':'lpg', 'G010':'oil', 'G011':'diesel', 'G012':'coal', \n",
    "            'G013':'wood', 'G014':'heat', 'F007':'Magna', 'F008':'Premium', 'F009':'Die-Gas'}"
   ]
  },
  {
   "cell_type": "code",
   "execution_count": 14,
   "metadata": {},
   "outputs": [],
   "source": [
    "# Sort every type of expenses into columns\n",
    "\n",
    "def mergeGastos(gastoDF):\n",
    "    gastoList = []\n",
    "    for clave in dic_cves:\n",
    "        gasto_x = gastoDF.loc[gastoDF['clave']==clave].copy()\n",
    "        gasto_x.rename(columns={'gasto_tri':'gasto_tri_' + dic_cves[clave]}, inplace=True)\n",
    "        gasto_x.drop(['clave'], axis=1, inplace=True)\n",
    "        gastoList.append(gasto_x)\n",
    "\n",
    "    # merge all the expenses\n",
    "    return reduce(lambda  left,right: pd.merge(left,right, on=['folioviv','foliohog'], how='outer'), gastoList)"
   ]
  },
  {
   "cell_type": "code",
   "execution_count": 15,
   "metadata": {},
   "outputs": [],
   "source": [
    "gastH_2018 = mergeGastos(gastosH_2018)\n",
    "gastP_2018 = mergeGastos(gastosP_2018)"
   ]
  },
  {
   "cell_type": "code",
   "execution_count": 16,
   "metadata": {},
   "outputs": [],
   "source": [
    "# Sum expenses from hogar and persona\n",
    "gasto_2018 = gastH_2018.set_index(['folioviv', 'foliohog']).add(gastP_2018.set_index(['folioviv', 'foliohog']), fill_value=0)\n",
    "gasto_2018.reset_index(inplace=True)"
   ]
  },
  {
   "cell_type": "code",
   "execution_count": 17,
   "metadata": {},
   "outputs": [],
   "source": [
    "# Merge with concentrador Hogar\n",
    "con_2018 = con_2018.merge(gasto_2018, on=['folioviv','foliohog'], how='left')"
   ]
  },
  {
   "cell_type": "markdown",
   "metadata": {},
   "source": [
    "### Completeness"
   ]
  },
  {
   "cell_type": "code",
   "execution_count": 76,
   "metadata": {},
   "outputs": [],
   "source": [
    "subset = list(con_2018)[list(con_2018).index('folioviv'):list(con_2018).index('factor')] + \\\n",
    "            list(con_2018)[list(con_2018).index('disp_elect'):]"
   ]
  },
  {
   "cell_type": "code",
   "execution_count": null,
   "metadata": {},
   "outputs": [],
   "source": [
    "percent_completeness = con_2018[subset].notnull().sum() * 100 / len(con_2018[subset])\n",
    "percent_completeness"
   ]
  },
  {
   "cell_type": "code",
   "execution_count": null,
   "metadata": {},
   "outputs": [],
   "source": [
    "keyDict = {1:'public', 2:'priv plant', 3:'solar', 4:'other', 5:'no elec'}\n",
    "s = (con_2018['disp_elect'].value_counts(normalize=True, dropna=False) * 100).to_frame()\n",
    "s['key'] = s.index.to_series().map(keyDict)\n",
    "print(s,'\\n','-'*30)\n",
    "\n",
    "keyDict = {1:'wood', 2:'coal', 3:'gas tank', 4:'gas pipe', 5:'elec', 6:'other'}\n",
    "s = (con_2018['combustible'].value_counts(normalize=True, dropna=False) * 100).to_frame()\n",
    "s['key'] = s.index.to_series().map(keyDict)\n",
    "print(s,'\\n','-'*30)\n",
    "\n",
    "keyDict = {1:'yes', 2:'no'}\n",
    "s = (con_2018['calent_sol'].value_counts(normalize=True, dropna=False) * 100).to_frame()\n",
    "s['key'] = s.index.to_series().map(keyDict)\n",
    "print(s,'\\n','-'*30)\n",
    "\n",
    "keyDict = {1:'yes', 2:'no'}\n",
    "s = (con_2018['calent_gas'].value_counts(normalize=True, dropna=False) * 100).to_frame()\n",
    "s['key'] = s.index.to_series().map(keyDict)\n",
    "print(s,'\\n','-'*30)\n",
    "\n",
    "keyDict = {1:'yes', 2:'no'}\n",
    "s = (con_2018['tanque_gas'].value_counts(normalize=True, dropna=False) * 100).to_frame()\n",
    "s['key'] = s.index.to_series().map(keyDict)\n",
    "print(s,'\\n','-'*30)\n",
    "\n",
    "keyDict = {1:'yes', 2:'no'}\n",
    "s = (con_2018['aire_acond'].value_counts(normalize=True, dropna=False) * 100).to_frame()\n",
    "s['key'] = s.index.to_series().map(keyDict)\n",
    "print(s,'\\n','-'*30)\n",
    "\n",
    "keyDict = {1:'yes', 2:'no'}\n",
    "s = (con_2018['calefacc'].value_counts(normalize=True, dropna=False) * 100).to_frame()\n",
    "s['key'] = s.index.to_series().map(keyDict)\n",
    "print(s,'\\n','-'*30)\n",
    "\n",
    "keyDict = {1:'rented', 2:'lend', 3:'owned and paying', 4:'own', 5:'litigated', 6:'other'}\n",
    "s = (con_2018['tenencia'].value_counts(normalize=True, dropna=False) * 100).to_frame()\n",
    "s['key'] = s.index.to_series().map(keyDict)\n",
    "print(s,'\\n','-'*30)"
   ]
  },
  {
   "cell_type": "code",
   "execution_count": null,
   "metadata": {},
   "outputs": [],
   "source": []
  },
  {
   "cell_type": "code",
   "execution_count": null,
   "metadata": {},
   "outputs": [],
   "source": []
  }
 ],
 "metadata": {
  "kernelspec": {
   "display_name": "Python 3",
   "language": "python",
   "name": "python3"
  },
  "language_info": {
   "codemirror_mode": {
    "name": "ipython",
    "version": 3
   },
   "file_extension": ".py",
   "mimetype": "text/x-python",
   "name": "python",
   "nbconvert_exporter": "python",
   "pygments_lexer": "ipython3",
   "version": "3.7.6"
  }
 },
 "nbformat": 4,
 "nbformat_minor": 4
}
