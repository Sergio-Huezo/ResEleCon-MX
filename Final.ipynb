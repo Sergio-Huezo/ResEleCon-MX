{
 "cells": [
  {
   "cell_type": "code",
   "execution_count": 24,
   "metadata": {},
   "outputs": [],
   "source": [
    "%matplotlib inline\n",
    "import numpy as np\n",
    "import pandas as pd\n",
    "import matplotlib.pyplot as plt\n",
    "import geopandas as gpd\n",
    "#from functools import reduce\n",
    "\n",
    "pd.set_option('display.max_columns', 200)\n",
    "pd.set_option('display.max_rows', 500)"
   ]
  },
  {
   "cell_type": "code",
   "execution_count": 25,
   "metadata": {},
   "outputs": [],
   "source": [
    "pkls_path = pkls = r'D:\\Tesis\\ResEleCon-MX\\pickles'\n",
    "concentrador = pd.read_pickle(pkls_path + '/total_energy.pkl')"
   ]
  },
  {
   "cell_type": "code",
   "execution_count": 30,
   "metadata": {},
   "outputs": [],
   "source": [
    "col = ['CVE_ZM','NOM_ZM','folioviv','foliohog','CVE_MUN','upm','est_socio','sexo_jefe','edad_jefe','educa_jefe','tot_integ','ing_cor',\n",
    "       'num_cuarto','tenencia','gasto_tri_ele','gasto_tri_gas','gasto_tri_lpg','gasto_tri_total_gas','lpg_kwh',\n",
    "       'g_natural_kwh','kwh','gas']\n",
    "ener = concentrador[col].copy()"
   ]
  },
  {
   "cell_type": "markdown",
   "metadata": {},
   "source": [
    "# Adding variables"
   ]
  },
  {
   "cell_type": "code",
   "execution_count": 63,
   "metadata": {},
   "outputs": [],
   "source": [
    "ener['Total'] = ener[['gas','kwh']].sum(axis=1, min_count=1)"
   ]
  },
  {
   "cell_type": "markdown",
   "metadata": {},
   "source": [
    "# Table 1"
   ]
  },
  {
   "cell_type": "markdown",
   "metadata": {},
   "source": [
    "### Size original"
   ]
  },
  {
   "cell_type": "code",
   "execution_count": 64,
   "metadata": {},
   "outputs": [
    {
     "data": {
      "text/plain": [
       "31100"
      ]
     },
     "execution_count": 64,
     "metadata": {},
     "output_type": "execute_result"
    }
   ],
   "source": [
    "len(ener)"
   ]
  },
  {
   "cell_type": "code",
   "execution_count": 65,
   "metadata": {},
   "outputs": [
    {
     "name": "stdout",
     "output_type": "stream",
     "text": [
      "Electricity data complete:  28239\n",
      "Gas data complete:  20102\n"
     ]
    }
   ],
   "source": [
    "print('Electricity data complete: ',len(ener.dropna(subset=['kwh'])))\n",
    "print('Gas data complete: ',len(ener.dropna(subset=['gas'])))"
   ]
  },
  {
   "cell_type": "markdown",
   "metadata": {},
   "source": [
    "### Size gas and electricity complete"
   ]
  },
  {
   "cell_type": "code",
   "execution_count": 66,
   "metadata": {},
   "outputs": [
    {
     "name": "stdout",
     "output_type": "stream",
     "text": [
      "Complete samples (gas and electricity):  18588\n"
     ]
    }
   ],
   "source": [
    "ener.dropna(subset=['kwh','gas'], inplace=True)\n",
    "print('Complete samples (gas and electricity): ',len(ener))"
   ]
  },
  {
   "cell_type": "code",
   "execution_count": 67,
   "metadata": {},
   "outputs": [
    {
     "data": {
      "text/plain": [
       "CVE_ZM                     0\n",
       "NOM_ZM                     0\n",
       "folioviv                   0\n",
       "foliohog                   0\n",
       "CVE_MUN                    0\n",
       "upm                        0\n",
       "est_socio                  0\n",
       "sexo_jefe                  0\n",
       "edad_jefe                  0\n",
       "educa_jefe                 0\n",
       "tot_integ                  0\n",
       "ing_cor                    0\n",
       "num_cuarto                 0\n",
       "tenencia                   0\n",
       "gasto_tri_ele              0\n",
       "gasto_tri_gas          15048\n",
       "gasto_tri_lpg           3390\n",
       "gasto_tri_total_gas        0\n",
       "lpg_kwh                 3390\n",
       "g_natural_kwh          15048\n",
       "kwh                        0\n",
       "gas                        0\n",
       "Total                      0\n",
       "dtype: int64"
      ]
     },
     "execution_count": 67,
     "metadata": {},
     "output_type": "execute_result"
    }
   ],
   "source": [
    "ener.isnull().sum(axis = 0)"
   ]
  },
  {
   "cell_type": "code",
   "execution_count": 68,
   "metadata": {},
   "outputs": [],
   "source": [
    "ener.to_pickle(pkls_path + '/energy_final.pkl')"
   ]
  },
  {
   "cell_type": "markdown",
   "metadata": {},
   "source": [
    "# Figure 1\n",
    "## Maps"
   ]
  },
  {
   "cell_type": "code",
   "execution_count": 69,
   "metadata": {},
   "outputs": [],
   "source": [
    "file = r'D:\\Tesis\\Datos\\shapefiles\\ZM\\ZM_built-up.shp'\n",
    "\n",
    "metro_map = gpd.read_file(file)\n",
    "metro_map[\"geometry\"] = metro_map.centroid\n",
    "metro_map = metro_map[metro_map.CVE_ZM.isin(ener['CVE_ZM'])]\n",
    "\n",
    "metro_map.to_file(\"shapes/ZM_points.shp\") "
   ]
  },
  {
   "cell_type": "markdown",
   "metadata": {},
   "source": [
    "# Table 2 "
   ]
  },
  {
   "cell_type": "code",
   "execution_count": 70,
   "metadata": {},
   "outputs": [],
   "source": [
    "concentrador['completeness'] = concentrador[['kwh','gas']].sum(axis=1, min_count=2)"
   ]
  },
  {
   "cell_type": "code",
   "execution_count": 71,
   "metadata": {
    "scrolled": true
   },
   "outputs": [
    {
     "data": {
      "text/html": [
       "<div>\n",
       "<style scoped>\n",
       "    .dataframe tbody tr th:only-of-type {\n",
       "        vertical-align: middle;\n",
       "    }\n",
       "\n",
       "    .dataframe tbody tr th {\n",
       "        vertical-align: top;\n",
       "    }\n",
       "\n",
       "    .dataframe thead th {\n",
       "        text-align: right;\n",
       "    }\n",
       "</style>\n",
       "<table border=\"1\" class=\"dataframe\">\n",
       "  <thead>\n",
       "    <tr style=\"text-align: right;\">\n",
       "      <th></th>\n",
       "      <th></th>\n",
       "      <th>foliohog</th>\n",
       "      <th>completeness</th>\n",
       "    </tr>\n",
       "    <tr>\n",
       "      <th>CVE_ZM</th>\n",
       "      <th>NOM_ZM</th>\n",
       "      <th></th>\n",
       "      <th></th>\n",
       "    </tr>\n",
       "  </thead>\n",
       "  <tbody>\n",
       "    <tr>\n",
       "      <th>1.01</th>\n",
       "      <th>Aguascalientes</th>\n",
       "      <td>1246</td>\n",
       "      <td>691</td>\n",
       "    </tr>\n",
       "    <tr>\n",
       "      <th>2.01</th>\n",
       "      <th>Ensenada</th>\n",
       "      <td>202</td>\n",
       "      <td>154</td>\n",
       "    </tr>\n",
       "    <tr>\n",
       "      <th>2.02</th>\n",
       "      <th>Mexicali</th>\n",
       "      <td>417</td>\n",
       "      <td>296</td>\n",
       "    </tr>\n",
       "    <tr>\n",
       "      <th>2.03</th>\n",
       "      <th>Tijuana</th>\n",
       "      <td>905</td>\n",
       "      <td>686</td>\n",
       "    </tr>\n",
       "    <tr>\n",
       "      <th>3.01</th>\n",
       "      <th>La Paz</th>\n",
       "      <td>616</td>\n",
       "      <td>193</td>\n",
       "    </tr>\n",
       "  </tbody>\n",
       "</table>\n",
       "</div>"
      ],
      "text/plain": [
       "                       foliohog  completeness\n",
       "CVE_ZM NOM_ZM                                \n",
       "1.01   Aguascalientes      1246           691\n",
       "2.01   Ensenada             202           154\n",
       "2.02   Mexicali             417           296\n",
       "2.03   Tijuana              905           686\n",
       "3.01   La Paz               616           193"
      ]
     },
     "execution_count": 71,
     "metadata": {},
     "output_type": "execute_result"
    }
   ],
   "source": [
    "table2 = concentrador.groupby(['CVE_ZM','NOM_ZM']).agg('count')[['foliohog','completeness']]\n",
    "table2.to_clipboard()\n",
    "table2.head()"
   ]
  },
  {
   "cell_type": "markdown",
   "metadata": {},
   "source": [
    "# Figure 2\n",
    "Absolute energy consumption"
   ]
  },
  {
   "cell_type": "code",
   "execution_count": 72,
   "metadata": {},
   "outputs": [
    {
     "data": {
      "text/html": [
       "<div>\n",
       "<style scoped>\n",
       "    .dataframe tbody tr th:only-of-type {\n",
       "        vertical-align: middle;\n",
       "    }\n",
       "\n",
       "    .dataframe tbody tr th {\n",
       "        vertical-align: top;\n",
       "    }\n",
       "\n",
       "    .dataframe thead th {\n",
       "        text-align: right;\n",
       "    }\n",
       "</style>\n",
       "<table border=\"1\" class=\"dataframe\">\n",
       "  <thead>\n",
       "    <tr style=\"text-align: right;\">\n",
       "      <th></th>\n",
       "      <th>CVE_ZM</th>\n",
       "      <th>NOM_ZM</th>\n",
       "      <th>folioviv</th>\n",
       "      <th>foliohog</th>\n",
       "      <th>CVE_MUN</th>\n",
       "      <th>upm</th>\n",
       "      <th>est_socio</th>\n",
       "      <th>sexo_jefe</th>\n",
       "      <th>edad_jefe</th>\n",
       "      <th>educa_jefe</th>\n",
       "      <th>tot_integ</th>\n",
       "      <th>ing_cor</th>\n",
       "      <th>num_cuarto</th>\n",
       "      <th>tenencia</th>\n",
       "      <th>gasto_tri_ele</th>\n",
       "      <th>gasto_tri_gas</th>\n",
       "      <th>gasto_tri_lpg</th>\n",
       "      <th>gasto_tri_total_gas</th>\n",
       "      <th>lpg_kwh</th>\n",
       "      <th>g_natural_kwh</th>\n",
       "      <th>kwh</th>\n",
       "      <th>gas</th>\n",
       "      <th>Total</th>\n",
       "    </tr>\n",
       "  </thead>\n",
       "  <tbody>\n",
       "    <tr>\n",
       "      <th>0</th>\n",
       "      <td>1.01</td>\n",
       "      <td>Aguascalientes</td>\n",
       "      <td>100013601</td>\n",
       "      <td>1</td>\n",
       "      <td>1001</td>\n",
       "      <td>1</td>\n",
       "      <td>3</td>\n",
       "      <td>1</td>\n",
       "      <td>74</td>\n",
       "      <td>4</td>\n",
       "      <td>3</td>\n",
       "      <td>76403.70</td>\n",
       "      <td>6</td>\n",
       "      <td>4</td>\n",
       "      <td>600.0</td>\n",
       "      <td>3000.0</td>\n",
       "      <td>NaN</td>\n",
       "      <td>3000.0</td>\n",
       "      <td>NaN</td>\n",
       "      <td>1578.284091</td>\n",
       "      <td>158.129476</td>\n",
       "      <td>1578.284091</td>\n",
       "      <td>1736.413567</td>\n",
       "    </tr>\n",
       "    <tr>\n",
       "      <th>2</th>\n",
       "      <td>1.01</td>\n",
       "      <td>Aguascalientes</td>\n",
       "      <td>100013603</td>\n",
       "      <td>1</td>\n",
       "      <td>1001</td>\n",
       "      <td>1</td>\n",
       "      <td>3</td>\n",
       "      <td>1</td>\n",
       "      <td>39</td>\n",
       "      <td>10</td>\n",
       "      <td>2</td>\n",
       "      <td>580697.74</td>\n",
       "      <td>7</td>\n",
       "      <td>4</td>\n",
       "      <td>375.0</td>\n",
       "      <td>NaN</td>\n",
       "      <td>2100.0</td>\n",
       "      <td>2100.0</td>\n",
       "      <td>0.558142</td>\n",
       "      <td>NaN</td>\n",
       "      <td>125.505879</td>\n",
       "      <td>0.558142</td>\n",
       "      <td>126.064021</td>\n",
       "    </tr>\n",
       "    <tr>\n",
       "      <th>3</th>\n",
       "      <td>1.01</td>\n",
       "      <td>Aguascalientes</td>\n",
       "      <td>100013604</td>\n",
       "      <td>1</td>\n",
       "      <td>1001</td>\n",
       "      <td>1</td>\n",
       "      <td>3</td>\n",
       "      <td>2</td>\n",
       "      <td>70</td>\n",
       "      <td>8</td>\n",
       "      <td>2</td>\n",
       "      <td>46252.71</td>\n",
       "      <td>5</td>\n",
       "      <td>4</td>\n",
       "      <td>480.0</td>\n",
       "      <td>378.0</td>\n",
       "      <td>NaN</td>\n",
       "      <td>378.0</td>\n",
       "      <td>NaN</td>\n",
       "      <td>198.863795</td>\n",
       "      <td>145.822996</td>\n",
       "      <td>198.863795</td>\n",
       "      <td>344.686791</td>\n",
       "    </tr>\n",
       "    <tr>\n",
       "      <th>5</th>\n",
       "      <td>1.01</td>\n",
       "      <td>Aguascalientes</td>\n",
       "      <td>100026701</td>\n",
       "      <td>1</td>\n",
       "      <td>1001</td>\n",
       "      <td>2</td>\n",
       "      <td>3</td>\n",
       "      <td>2</td>\n",
       "      <td>41</td>\n",
       "      <td>11</td>\n",
       "      <td>4</td>\n",
       "      <td>237742.54</td>\n",
       "      <td>5</td>\n",
       "      <td>4</td>\n",
       "      <td>420.0</td>\n",
       "      <td>NaN</td>\n",
       "      <td>1500.0</td>\n",
       "      <td>1500.0</td>\n",
       "      <td>0.358023</td>\n",
       "      <td>NaN</td>\n",
       "      <td>139.032066</td>\n",
       "      <td>0.358023</td>\n",
       "      <td>139.390089</td>\n",
       "    </tr>\n",
       "    <tr>\n",
       "      <th>6</th>\n",
       "      <td>1.01</td>\n",
       "      <td>Aguascalientes</td>\n",
       "      <td>100026703</td>\n",
       "      <td>1</td>\n",
       "      <td>1001</td>\n",
       "      <td>2</td>\n",
       "      <td>3</td>\n",
       "      <td>2</td>\n",
       "      <td>57</td>\n",
       "      <td>9</td>\n",
       "      <td>1</td>\n",
       "      <td>32606.55</td>\n",
       "      <td>5</td>\n",
       "      <td>4</td>\n",
       "      <td>375.0</td>\n",
       "      <td>NaN</td>\n",
       "      <td>3150.0</td>\n",
       "      <td>3150.0</td>\n",
       "      <td>0.837213</td>\n",
       "      <td>NaN</td>\n",
       "      <td>125.505879</td>\n",
       "      <td>0.837213</td>\n",
       "      <td>126.343093</td>\n",
       "    </tr>\n",
       "  </tbody>\n",
       "</table>\n",
       "</div>"
      ],
      "text/plain": [
       "   CVE_ZM          NOM_ZM   folioviv  foliohog  CVE_MUN  upm  est_socio  \\\n",
       "0    1.01  Aguascalientes  100013601         1     1001    1          3   \n",
       "2    1.01  Aguascalientes  100013603         1     1001    1          3   \n",
       "3    1.01  Aguascalientes  100013604         1     1001    1          3   \n",
       "5    1.01  Aguascalientes  100026701         1     1001    2          3   \n",
       "6    1.01  Aguascalientes  100026703         1     1001    2          3   \n",
       "\n",
       "   sexo_jefe  edad_jefe  educa_jefe  tot_integ    ing_cor  num_cuarto  \\\n",
       "0          1         74           4          3   76403.70           6   \n",
       "2          1         39          10          2  580697.74           7   \n",
       "3          2         70           8          2   46252.71           5   \n",
       "5          2         41          11          4  237742.54           5   \n",
       "6          2         57           9          1   32606.55           5   \n",
       "\n",
       "   tenencia  gasto_tri_ele  gasto_tri_gas  gasto_tri_lpg  gasto_tri_total_gas  \\\n",
       "0         4          600.0         3000.0            NaN               3000.0   \n",
       "2         4          375.0            NaN         2100.0               2100.0   \n",
       "3         4          480.0          378.0            NaN                378.0   \n",
       "5         4          420.0            NaN         1500.0               1500.0   \n",
       "6         4          375.0            NaN         3150.0               3150.0   \n",
       "\n",
       "    lpg_kwh  g_natural_kwh         kwh          gas        Total  \n",
       "0       NaN    1578.284091  158.129476  1578.284091  1736.413567  \n",
       "2  0.558142            NaN  125.505879     0.558142   126.064021  \n",
       "3       NaN     198.863795  145.822996   198.863795   344.686791  \n",
       "5  0.358023            NaN  139.032066     0.358023   139.390089  \n",
       "6  0.837213            NaN  125.505879     0.837213   126.343093  "
      ]
     },
     "execution_count": 72,
     "metadata": {},
     "output_type": "execute_result"
    }
   ],
   "source": [
    "ener.head()"
   ]
  },
  {
   "cell_type": "code",
   "execution_count": null,
   "metadata": {},
   "outputs": [],
   "source": [
    "ener_ordered = ener.sort_values(by=['Total'], ignore_index=True)\n",
    "ener_ordered_cut = ener_ordered[0:18587]"
   ]
  },
  {
   "cell_type": "code",
   "execution_count": 89,
   "metadata": {},
   "outputs": [
    {
     "name": "stderr",
     "output_type": "stream",
     "text": [
      "The PostScript backend does not support transparency; partially transparent artists will be rendered opaque.\n",
      "The PostScript backend does not support transparency; partially transparent artists will be rendered opaque.\n",
      "The PostScript backend does not support transparency; partially transparent artists will be rendered opaque.\n",
      "The PostScript backend does not support transparency; partially transparent artists will be rendered opaque.\n"
     ]
    },
    {
     "data": {
      "image/png": "[encoded data removed]",
      "text/plain": [
       "<Figure size 432x288 with 1 Axes>"
      ]
     },
     "metadata": {
      "needs_background": "light"
     },
     "output_type": "display_data"
    }
   ],
   "source": [
    "# Data\n",
    "x=ener_ordered.index\n",
    "y=[ener_ordered.kwh.to_list(),ener_ordered.gas.to_list()]\n",
    "\n",
    "# Plot\n",
    "fig, ax = plt.subplots()\n",
    "ax.stackplot(x,y, labels=['kwh','gas'])\n",
    "plt.legend(loc='upper left')\n",
    "\n",
    "ax.set_xlabel('Households')\n",
    "ax.set_ylabel('Total energy consumption (kwh)')\n",
    "\n",
    "#plt.savefig('images/graphs/fig2.eps', format='eps', bbox_inches='tight')\n",
    "plt.show()"
   ]
  },
  {
   "cell_type": "code",
   "execution_count": 87,
   "metadata": {},
   "outputs": [
    {
     "data": {
      "image/png": "[encoded data removed]",
      "text/plain": [
       "<Figure size 576x432 with 1 Axes>"
      ]
     },
     "metadata": {
      "needs_background": "light"
     },
     "output_type": "display_data"
    }
   ],
   "source": [
    "# Data\n",
    "x=ener_ordered_cut.index\n",
    "y=[ener_ordered_cut.kwh.to_list(),ener_ordered_cut.gas.to_list()]\n",
    "\n",
    "# Plot\n",
    "fig, ax = plt.subplots(figsize=(8,6))\n",
    "ax.stackplot(x,y, labels=['kwh','gas'])\n",
    "plt.legend(loc='upper left')\n",
    "\n",
    "ax.set_xlabel('Households')\n",
    "ax.set_ylabel('Total energy consumption (kwh)')\n",
    "\n",
    "plt.show()"
   ]
  },
  {
   "cell_type": "markdown",
   "metadata": {},
   "source": [
    "# Figure 3\n",
    "Gas vs electricity"
   ]
  },
  {
   "cell_type": "code",
   "execution_count": 93,
   "metadata": {},
   "outputs": [
    {
     "data": {
      "image/png": "[encoded data removed]",
      "text/plain": [
       "<Figure size 432x288 with 1 Axes>"
      ]
     },
     "metadata": {
      "needs_background": "light"
     },
     "output_type": "display_data"
    }
   ],
   "source": [
    "fig, ax = plt.subplots()\n",
    "ax.scatter(ener['kwh'], ener['gas'])\n",
    "    \n",
    "ax.set_ylabel('Electricity consumption (kwh)')\n",
    "ax.set_xlabel('Gas consumption (kwh)')\n",
    "\n",
    "plt.savefig('images/graphs/fig3.eps', format='eps', bbox_inches='tight')\n",
    "\n",
    "plt.show()"
   ]
  },
  {
   "cell_type": "code",
   "execution_count": null,
   "metadata": {},
   "outputs": [],
   "source": []
  }
 ],
 "metadata": {
  "kernelspec": {
   "display_name": "Python 3",
   "language": "python",
   "name": "python3"
  },
  "language_info": {
   "codemirror_mode": {
    "name": "ipython",
    "version": 3
   },
   "file_extension": ".py",
   "mimetype": "text/x-python",
   "name": "python",
   "nbconvert_exporter": "python",
   "pygments_lexer": "ipython3",
   "version": "3.7.6"
  }
 },
 "nbformat": 4,
 "nbformat_minor": 4
}
