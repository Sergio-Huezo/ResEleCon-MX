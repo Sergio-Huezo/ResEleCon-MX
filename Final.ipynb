{
 "cells": [
  {
   "cell_type": "code",
   "execution_count": 1,
   "metadata": {},
   "outputs": [],
   "source": [
    "%matplotlib inline\n",
    "import numpy as np\n",
    "import pandas as pd\n",
    "import matplotlib.pyplot as plt\n",
    "#from functools import reduce\n",
    "\n",
    "pd.set_option('display.max_columns', 200)\n",
    "pd.set_option('display.max_rows', 500)"
   ]
  },
  {
   "cell_type": "code",
   "execution_count": 2,
   "metadata": {},
   "outputs": [],
   "source": [
    "pkls_path = pkls = r'D:\\Tesis\\ResEleCon-MX\\pickles'\n",
    "concentrador = pd.read_pickle(pkls_path + '/total_energy.pkl')"
   ]
  },
  {
   "cell_type": "code",
   "execution_count": 16,
   "metadata": {},
   "outputs": [],
   "source": [
    "col = ['folioviv','foliohog','CVE_MUN','upm','est_socio','sexo_jefe','edad_jefe','educa_jefe','tot_integ','ing_cor',\n",
    "       'num_cuarto','tenencia','gasto_tri_ele','gasto_tri_gas','gasto_tri_lpg','gasto_tri_total_gas','lpg_kwh',\n",
    "       'g_natural_kwh','kwh','gas']\n",
    "ener = concentrador[col].copy()"
   ]
  },
  {
   "cell_type": "markdown",
   "metadata": {},
   "source": [
    "### Size original"
   ]
  },
  {
   "cell_type": "code",
   "execution_count": 38,
   "metadata": {},
   "outputs": [
    {
     "data": {
      "text/plain": [
       "31100"
      ]
     },
     "execution_count": 38,
     "metadata": {},
     "output_type": "execute_result"
    }
   ],
   "source": [
    "len(ener)"
   ]
  },
  {
   "cell_type": "markdown",
   "metadata": {},
   "source": [
    "### Size without NAs in gas or electricity"
   ]
  },
  {
   "cell_type": "code",
   "execution_count": 40,
   "metadata": {},
   "outputs": [
    {
     "data": {
      "text/plain": [
       "18588"
      ]
     },
     "execution_count": 40,
     "metadata": {},
     "output_type": "execute_result"
    }
   ],
   "source": [
    "ener.dropna(subset=['kwh','gas'], inplace=True)\n",
    "len(ener)"
   ]
  },
  {
   "cell_type": "code",
   "execution_count": 41,
   "metadata": {},
   "outputs": [
    {
     "data": {
      "text/plain": [
       "folioviv                   0\n",
       "foliohog                   0\n",
       "CVE_MUN                    0\n",
       "upm                        0\n",
       "est_socio                  0\n",
       "sexo_jefe                  0\n",
       "edad_jefe                  0\n",
       "educa_jefe                 0\n",
       "tot_integ                  0\n",
       "ing_cor                    0\n",
       "num_cuarto                 0\n",
       "tenencia                   0\n",
       "gasto_tri_ele              0\n",
       "gasto_tri_gas          15048\n",
       "gasto_tri_lpg           3390\n",
       "gasto_tri_total_gas        0\n",
       "lpg_kwh                 3390\n",
       "g_natural_kwh          15048\n",
       "kwh                        0\n",
       "gas                        0\n",
       "dtype: int64"
      ]
     },
     "execution_count": 41,
     "metadata": {},
     "output_type": "execute_result"
    }
   ],
   "source": [
    "ener.isnull().sum(axis = 0)"
   ]
  },
  {
   "cell_type": "code",
   "execution_count": 42,
   "metadata": {},
   "outputs": [],
   "source": [
    "ener.to_pickle(pkls_path + '/energy_final.pkl')"
   ]
  }
 ],
 "metadata": {
  "kernelspec": {
   "display_name": "Python 3",
   "language": "python",
   "name": "python3"
  },
  "language_info": {
   "codemirror_mode": {
    "name": "ipython",
    "version": 3
   },
   "file_extension": ".py",
   "mimetype": "text/x-python",
   "name": "python",
   "nbconvert_exporter": "python",
   "pygments_lexer": "ipython3",
   "version": "3.7.6"
  }
 },
 "nbformat": 4,
 "nbformat_minor": 4
}
